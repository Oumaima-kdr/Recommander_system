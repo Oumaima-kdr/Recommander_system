{
  "nbformat": 4,
  "nbformat_minor": 0,
  "metadata": {
    "colab": {
      "provenance": [],
      "toc_visible": true
    },
    "kernelspec": {
      "name": "python3",
      "display_name": "Python 3"
    },
    "language_info": {
      "name": "python"
    },
    "accelerator": "GPU"
  },
  "cells": [
    {
      "cell_type": "markdown",
      "source": [
        "**<center>Project</center>**\n",
        "\n",
        "**<center>Market microstructure and trading strategy</center>**\n",
        "\n",
        "**<center>(Recommender system)</center>**\n"
      ],
      "metadata": {
        "id": "87GFaLiTIyA-"
      }
    },
    {
      "cell_type": "markdown",
      "source": [
        "#Overview\n",
        "**Objective:**\n",
        "\n",
        "Build a recommendation system to recommend products to customers based on the their previous ratings for other products.\n",
        "\n",
        "**Attribute Information:**\n",
        "\n",
        "● user_id : Every user identified with a unique id\n",
        "\n",
        "● item_id : Every product identified with a unique id\n",
        "\n",
        "● rating : rating of the corresponding product by the corresponding user\n",
        "\n",
        "● timestamp : Time of the rating"
      ],
      "metadata": {
        "id": "w65oaiEdTY9i"
      }
    },
    {
      "cell_type": "markdown",
      "source": [
        "#Import librairies\n"
      ],
      "metadata": {
        "id": "y5qUIo61RKXM"
      }
    },
    {
      "cell_type": "code",
      "source": [
        "!pip install git+https://github.com/inpefess/recommender-systems-course.git"
      ],
      "metadata": {
        "colab": {
          "base_uri": "https://localhost:8080/"
        },
        "id": "haw_aks_4FuS",
        "outputId": "cd8b26fd-9741-4a69-c7fe-4c05d65330de"
      },
      "execution_count": null,
      "outputs": [
        {
          "output_type": "stream",
          "name": "stdout",
          "text": [
            "Collecting git+https://github.com/inpefess/recommender-systems-course.git\n",
            "  Cloning https://github.com/inpefess/recommender-systems-course.git to /tmp/pip-req-build-sw3ewm0u\n",
            "  Running command git clone -q https://github.com/inpefess/recommender-systems-course.git /tmp/pip-req-build-sw3ewm0u\n",
            "  Installing build dependencies ... \u001b[?25l\u001b[?25hdone\n",
            "  Getting requirements to build wheel ... \u001b[?25l\u001b[?25hdone\n",
            "    Preparing wheel metadata ... \u001b[?25l\u001b[?25hdone\n",
            "Collecting spotlight@ git+https://github.com/maciejkula/spotlight.git@v0.1.6\n",
            "  Cloning https://github.com/maciejkula/spotlight.git (to revision v0.1.6) to /tmp/pip-install-bhw6rrre/spotlight_8133d794e237410bb84f417958d105bf\n",
            "  Running command git clone -q https://github.com/maciejkula/spotlight.git /tmp/pip-install-bhw6rrre/spotlight_8133d794e237410bb84f417958d105bf\n",
            "  Running command git checkout -q ddf77d4829145ed271a3c605ec683176b08b1713\n",
            "Collecting implicit@ git+https://github.com/benfred/implicit.git@18a8010b07e8a86f8eb37f837b5bbda11647501f\n",
            "  Using cached implicit-0.4.8-cp37-cp37m-linux_x86_64.whl\n",
            "Requirement already satisfied: lightfm in /usr/local/lib/python3.7/dist-packages (from rs-course==0.0.2) (1.16)\n",
            "Requirement already satisfied: turicreate in /usr/local/lib/python3.7/dist-packages (from rs-course==0.0.2) (6.4.1)\n",
            "Requirement already satisfied: torch in /usr/local/lib/python3.7/dist-packages (from rs-course==0.0.2) (1.10.0+cu111)\n",
            "Requirement already satisfied: rs-datasets in /usr/local/lib/python3.7/dist-packages (from rs-course==0.0.2) (0.5.0)\n",
            "Requirement already satisfied: pandas in /usr/local/lib/python3.7/dist-packages (from rs-course==0.0.2) (1.3.5)\n",
            "Requirement already satisfied: rs-metrics in /usr/local/lib/python3.7/dist-packages (from rs-course==0.0.2) (0.5.0)\n",
            "Requirement already satisfied: tqdm>=4.27 in /usr/local/lib/python3.7/dist-packages (from implicit@ git+https://github.com/benfred/implicit.git@18a8010b07e8a86f8eb37f837b5bbda11647501f->rs-course==0.0.2) (4.63.0)\n",
            "Requirement already satisfied: numpy in /usr/local/lib/python3.7/dist-packages (from implicit@ git+https://github.com/benfred/implicit.git@18a8010b07e8a86f8eb37f837b5bbda11647501f->rs-course==0.0.2) (1.18.5)\n",
            "Requirement already satisfied: scipy>=0.16 in /usr/local/lib/python3.7/dist-packages (from implicit@ git+https://github.com/benfred/implicit.git@18a8010b07e8a86f8eb37f837b5bbda11647501f->rs-course==0.0.2) (1.4.1)\n",
            "Requirement already satisfied: typing-extensions in /usr/local/lib/python3.7/dist-packages (from torch->rs-course==0.0.2) (3.10.0.2)\n",
            "Requirement already satisfied: scikit-learn in /usr/local/lib/python3.7/dist-packages (from lightfm->rs-course==0.0.2) (1.0.2)\n",
            "Requirement already satisfied: requests in /usr/local/lib/python3.7/dist-packages (from lightfm->rs-course==0.0.2) (2.23.0)\n",
            "Requirement already satisfied: python-dateutil>=2.7.3 in /usr/local/lib/python3.7/dist-packages (from pandas->rs-course==0.0.2) (2.8.2)\n",
            "Requirement already satisfied: pytz>=2017.3 in /usr/local/lib/python3.7/dist-packages (from pandas->rs-course==0.0.2) (2018.9)\n",
            "Requirement already satisfied: six>=1.5 in /usr/local/lib/python3.7/dist-packages (from python-dateutil>=2.7.3->pandas->rs-course==0.0.2) (1.15.0)\n",
            "Requirement already satisfied: urllib3!=1.25.0,!=1.25.1,<1.26,>=1.21.1 in /usr/local/lib/python3.7/dist-packages (from requests->lightfm->rs-course==0.0.2) (1.24.3)\n",
            "Requirement already satisfied: idna<3,>=2.5 in /usr/local/lib/python3.7/dist-packages (from requests->lightfm->rs-course==0.0.2) (2.10)\n",
            "Requirement already satisfied: chardet<4,>=3.0.2 in /usr/local/lib/python3.7/dist-packages (from requests->lightfm->rs-course==0.0.2) (3.0.4)\n",
            "Requirement already satisfied: certifi>=2017.4.17 in /usr/local/lib/python3.7/dist-packages (from requests->lightfm->rs-course==0.0.2) (2021.10.8)\n",
            "Requirement already satisfied: datatable in /usr/local/lib/python3.7/dist-packages (from rs-datasets->rs-course==0.0.2) (1.0.0)\n",
            "Requirement already satisfied: xlrd in /usr/local/lib/python3.7/dist-packages (from rs-datasets->rs-course==0.0.2) (1.1.0)\n",
            "Requirement already satisfied: pyarrow in /usr/local/lib/python3.7/dist-packages (from rs-datasets->rs-course==0.0.2) (6.0.1)\n",
            "Requirement already satisfied: gdown in /usr/local/lib/python3.7/dist-packages (from rs-datasets->rs-course==0.0.2) (4.2.2)\n",
            "Requirement already satisfied: kaggle in /usr/local/lib/python3.7/dist-packages (from rs-datasets->rs-course==0.0.2) (1.5.12)\n",
            "Requirement already satisfied: py7zr in /usr/local/lib/python3.7/dist-packages (from rs-datasets->rs-course==0.0.2) (0.17.4)\n",
            "Requirement already satisfied: openpyxl in /usr/local/lib/python3.7/dist-packages (from rs-datasets->rs-course==0.0.2) (3.0.9)\n",
            "Requirement already satisfied: filelock in /usr/local/lib/python3.7/dist-packages (from gdown->rs-datasets->rs-course==0.0.2) (3.6.0)\n",
            "Requirement already satisfied: beautifulsoup4 in /usr/local/lib/python3.7/dist-packages (from gdown->rs-datasets->rs-course==0.0.2) (4.6.3)\n",
            "Requirement already satisfied: python-slugify in /usr/local/lib/python3.7/dist-packages (from kaggle->rs-datasets->rs-course==0.0.2) (6.1.1)\n",
            "Requirement already satisfied: et-xmlfile in /usr/local/lib/python3.7/dist-packages (from openpyxl->rs-datasets->rs-course==0.0.2) (1.1.0)\n",
            "Requirement already satisfied: texttable in /usr/local/lib/python3.7/dist-packages (from py7zr->rs-datasets->rs-course==0.0.2) (1.6.4)\n",
            "Requirement already satisfied: brotli>=1.0.9 in /usr/local/lib/python3.7/dist-packages (from py7zr->rs-datasets->rs-course==0.0.2) (1.0.9)\n",
            "Requirement already satisfied: importlib-metadata in /usr/local/lib/python3.7/dist-packages (from py7zr->rs-datasets->rs-course==0.0.2) (4.11.2)\n",
            "Requirement already satisfied: pyppmd>=0.17.0 in /usr/local/lib/python3.7/dist-packages (from py7zr->rs-datasets->rs-course==0.0.2) (0.17.3)\n",
            "Requirement already satisfied: multivolumefile>=0.2.3 in /usr/local/lib/python3.7/dist-packages (from py7zr->rs-datasets->rs-course==0.0.2) (0.2.3)\n",
            "Requirement already satisfied: pycryptodomex>=3.6.6 in /usr/local/lib/python3.7/dist-packages (from py7zr->rs-datasets->rs-course==0.0.2) (3.14.1)\n",
            "Requirement already satisfied: pybcj>=0.5.0 in /usr/local/lib/python3.7/dist-packages (from py7zr->rs-datasets->rs-course==0.0.2) (0.5.0)\n",
            "Requirement already satisfied: pyzstd>=0.14.4 in /usr/local/lib/python3.7/dist-packages (from py7zr->rs-datasets->rs-course==0.0.2) (0.15.2)\n",
            "Requirement already satisfied: zipp>=0.5 in /usr/local/lib/python3.7/dist-packages (from importlib-metadata->py7zr->rs-datasets->rs-course==0.0.2) (3.7.0)\n",
            "Requirement already satisfied: text-unidecode>=1.3 in /usr/local/lib/python3.7/dist-packages (from python-slugify->kaggle->rs-datasets->rs-course==0.0.2) (1.3)\n",
            "Requirement already satisfied: PySocks!=1.5.7,>=1.5.6 in /usr/local/lib/python3.7/dist-packages (from requests->lightfm->rs-course==0.0.2) (1.7.1)\n",
            "Requirement already satisfied: joblib>=0.11 in /usr/local/lib/python3.7/dist-packages (from scikit-learn->lightfm->rs-course==0.0.2) (1.1.0)\n",
            "Requirement already satisfied: threadpoolctl>=2.0.0 in /usr/local/lib/python3.7/dist-packages (from scikit-learn->lightfm->rs-course==0.0.2) (3.1.0)\n",
            "Requirement already satisfied: resampy==0.2.1 in /usr/local/lib/python3.7/dist-packages (from turicreate->rs-course==0.0.2) (0.2.1)\n",
            "Requirement already satisfied: numba<0.51.0 in /usr/local/lib/python3.7/dist-packages (from turicreate->rs-course==0.0.2) (0.50.1)\n",
            "Requirement already satisfied: decorator>=4.0.9 in /usr/local/lib/python3.7/dist-packages (from turicreate->rs-course==0.0.2) (4.4.2)\n",
            "Requirement already satisfied: coremltools==3.3 in /usr/local/lib/python3.7/dist-packages (from turicreate->rs-course==0.0.2) (3.3)\n",
            "Requirement already satisfied: tensorflow<2.1.0,>=2.0.0 in /usr/local/lib/python3.7/dist-packages (from turicreate->rs-course==0.0.2) (2.0.4)\n",
            "Requirement already satisfied: prettytable==0.7.2 in /usr/local/lib/python3.7/dist-packages (from turicreate->rs-course==0.0.2) (0.7.2)\n",
            "Requirement already satisfied: pillow>=5.2.0 in /usr/local/lib/python3.7/dist-packages (from turicreate->rs-course==0.0.2) (7.1.2)\n",
            "Requirement already satisfied: protobuf>=3.1.0 in /usr/local/lib/python3.7/dist-packages (from coremltools==3.3->turicreate->rs-course==0.0.2) (3.17.3)\n",
            "Requirement already satisfied: llvmlite<0.34,>=0.33.0.dev0 in /usr/local/lib/python3.7/dist-packages (from numba<0.51.0->turicreate->rs-course==0.0.2) (0.33.0)\n",
            "Requirement already satisfied: setuptools in /usr/local/lib/python3.7/dist-packages (from numba<0.51.0->turicreate->rs-course==0.0.2) (57.4.0)\n",
            "Requirement already satisfied: tensorboard<2.1.0,>=2.0.0 in /usr/local/lib/python3.7/dist-packages (from tensorflow<2.1.0,>=2.0.0->turicreate->rs-course==0.0.2) (2.0.2)\n",
            "Requirement already satisfied: google-pasta>=0.1.6 in /usr/local/lib/python3.7/dist-packages (from tensorflow<2.1.0,>=2.0.0->turicreate->rs-course==0.0.2) (0.2.0)\n",
            "Requirement already satisfied: keras-applications>=1.0.8 in /usr/local/lib/python3.7/dist-packages (from tensorflow<2.1.0,>=2.0.0->turicreate->rs-course==0.0.2) (1.0.8)\n",
            "Requirement already satisfied: h5py<=2.10.0 in /usr/local/lib/python3.7/dist-packages (from tensorflow<2.1.0,>=2.0.0->turicreate->rs-course==0.0.2) (2.10.0)\n",
            "Requirement already satisfied: wrapt>=1.11.1 in /usr/local/lib/python3.7/dist-packages (from tensorflow<2.1.0,>=2.0.0->turicreate->rs-course==0.0.2) (1.13.3)\n",
            "Requirement already satisfied: grpcio>=1.8.6 in /usr/local/lib/python3.7/dist-packages (from tensorflow<2.1.0,>=2.0.0->turicreate->rs-course==0.0.2) (1.44.0)\n",
            "Requirement already satisfied: gast==0.2.2 in /usr/local/lib/python3.7/dist-packages (from tensorflow<2.1.0,>=2.0.0->turicreate->rs-course==0.0.2) (0.2.2)\n",
            "Requirement already satisfied: termcolor>=1.1.0 in /usr/local/lib/python3.7/dist-packages (from tensorflow<2.1.0,>=2.0.0->turicreate->rs-course==0.0.2) (1.1.0)\n",
            "Requirement already satisfied: astor>=0.6.0 in /usr/local/lib/python3.7/dist-packages (from tensorflow<2.1.0,>=2.0.0->turicreate->rs-course==0.0.2) (0.8.1)\n",
            "Requirement already satisfied: keras-preprocessing>=1.0.5 in /usr/local/lib/python3.7/dist-packages (from tensorflow<2.1.0,>=2.0.0->turicreate->rs-course==0.0.2) (1.1.2)\n",
            "Requirement already satisfied: tensorflow-estimator<2.1.0,>=2.0.0 in /usr/local/lib/python3.7/dist-packages (from tensorflow<2.1.0,>=2.0.0->turicreate->rs-course==0.0.2) (2.0.1)\n",
            "Requirement already satisfied: wheel>=0.26 in /usr/local/lib/python3.7/dist-packages (from tensorflow<2.1.0,>=2.0.0->turicreate->rs-course==0.0.2) (0.37.1)\n",
            "Requirement already satisfied: absl-py>=0.7.0 in /usr/local/lib/python3.7/dist-packages (from tensorflow<2.1.0,>=2.0.0->turicreate->rs-course==0.0.2) (1.0.0)\n",
            "Requirement already satisfied: opt-einsum>=2.3.2 in /usr/local/lib/python3.7/dist-packages (from tensorflow<2.1.0,>=2.0.0->turicreate->rs-course==0.0.2) (3.3.0)\n",
            "Requirement already satisfied: google-auth<2,>=1.6.3 in /usr/local/lib/python3.7/dist-packages (from tensorboard<2.1.0,>=2.0.0->tensorflow<2.1.0,>=2.0.0->turicreate->rs-course==0.0.2) (1.35.0)\n",
            "Requirement already satisfied: werkzeug>=0.11.15 in /usr/local/lib/python3.7/dist-packages (from tensorboard<2.1.0,>=2.0.0->tensorflow<2.1.0,>=2.0.0->turicreate->rs-course==0.0.2) (1.0.1)\n",
            "Requirement already satisfied: markdown>=2.6.8 in /usr/local/lib/python3.7/dist-packages (from tensorboard<2.1.0,>=2.0.0->tensorflow<2.1.0,>=2.0.0->turicreate->rs-course==0.0.2) (3.3.6)\n",
            "Requirement already satisfied: google-auth-oauthlib<0.5,>=0.4.1 in /usr/local/lib/python3.7/dist-packages (from tensorboard<2.1.0,>=2.0.0->tensorflow<2.1.0,>=2.0.0->turicreate->rs-course==0.0.2) (0.4.6)\n",
            "Requirement already satisfied: pyasn1-modules>=0.2.1 in /usr/local/lib/python3.7/dist-packages (from google-auth<2,>=1.6.3->tensorboard<2.1.0,>=2.0.0->tensorflow<2.1.0,>=2.0.0->turicreate->rs-course==0.0.2) (0.2.8)\n",
            "Requirement already satisfied: rsa<5,>=3.1.4 in /usr/local/lib/python3.7/dist-packages (from google-auth<2,>=1.6.3->tensorboard<2.1.0,>=2.0.0->tensorflow<2.1.0,>=2.0.0->turicreate->rs-course==0.0.2) (4.8)\n",
            "Requirement already satisfied: cachetools<5.0,>=2.0.0 in /usr/local/lib/python3.7/dist-packages (from google-auth<2,>=1.6.3->tensorboard<2.1.0,>=2.0.0->tensorflow<2.1.0,>=2.0.0->turicreate->rs-course==0.0.2) (4.2.4)\n",
            "Requirement already satisfied: requests-oauthlib>=0.7.0 in /usr/local/lib/python3.7/dist-packages (from google-auth-oauthlib<0.5,>=0.4.1->tensorboard<2.1.0,>=2.0.0->tensorflow<2.1.0,>=2.0.0->turicreate->rs-course==0.0.2) (1.3.1)\n",
            "Requirement already satisfied: pyasn1<0.5.0,>=0.4.6 in /usr/local/lib/python3.7/dist-packages (from pyasn1-modules>=0.2.1->google-auth<2,>=1.6.3->tensorboard<2.1.0,>=2.0.0->tensorflow<2.1.0,>=2.0.0->turicreate->rs-course==0.0.2) (0.4.8)\n",
            "Requirement already satisfied: oauthlib>=3.0.0 in /usr/local/lib/python3.7/dist-packages (from requests-oauthlib>=0.7.0->google-auth-oauthlib<0.5,>=0.4.1->tensorboard<2.1.0,>=2.0.0->tensorflow<2.1.0,>=2.0.0->turicreate->rs-course==0.0.2) (3.2.0)\n"
          ]
        }
      ]
    },
    {
      "cell_type": "code",
      "source": [
        "import os\n",
        "from google.colab import drive\n",
        "\n",
        "import matplotlib.pyplot as plt\n",
        "\n",
        "# %matplotlib inline\n",
        "plt.style.use(\"ggplot\")\n",
        "import numpy as np\n",
        "import pandas as pd\n",
        "import seaborn as sns\n",
        "sns.set_color_codes()\n",
        "sns.set(style=\"whitegrid\")\n",
        "from tqdm import tqdm\n",
        "from typing import Tuple,Any,Dict,List\n",
        "\n",
        "from rs_datasets import Amazon\n",
        "from scipy.sparse import csr_matrix\n",
        "from sklearn.decomposition import TruncatedSVD\n",
        "from lightfm import LightFM\n",
        "\n",
        "from rs_metrics import coverage,ndcg\n",
        "from spotlight.factorization.implicit import ImplicitFactorizationModel\n",
        "from spotlight.interactions import Interactions\n",
        "from sklearn import preprocessing\n",
        "\n",
        "import torch\n",
        "\n",
        "torch.cuda.current_device()\n",
        "torch.cuda.empty_cache()\n",
        "\n"
      ],
      "metadata": {
        "colab": {
          "base_uri": "https://localhost:8080/",
          "height": 17
        },
        "id": "imJuiJ9CTB_y",
        "outputId": "b65d3c9a-e1e4-48c0-dcfb-2d788bbf237f"
      },
      "execution_count": null,
      "outputs": [
        {
          "output_type": "display_data",
          "data": {
            "text/html": [
              "<style type='text/css'>\n",
              ".datatable table.frame { margin-bottom: 0; }\n",
              ".datatable table.frame thead { border-bottom: none; }\n",
              ".datatable table.frame tr.coltypes td {  color: #FFFFFF;  line-height: 6px;  padding: 0 0.5em;}\n",
              ".datatable .bool    { background: #DDDD99; }\n",
              ".datatable .object  { background: #565656; }\n",
              ".datatable .int     { background: #5D9E5D; }\n",
              ".datatable .float   { background: #4040CC; }\n",
              ".datatable .str     { background: #CC4040; }\n",
              ".datatable .time    { background: #40CC40; }\n",
              ".datatable .row_index {  background: var(--jp-border-color3);  border-right: 1px solid var(--jp-border-color0);  color: var(--jp-ui-font-color3);  font-size: 9px;}\n",
              ".datatable .frame tbody td { text-align: left; }\n",
              ".datatable .frame tr.coltypes .row_index {  background: var(--jp-border-color0);}\n",
              ".datatable th:nth-child(2) { padding-left: 12px; }\n",
              ".datatable .hellipsis {  color: var(--jp-cell-editor-border-color);}\n",
              ".datatable .vellipsis {  background: var(--jp-layout-color0);  color: var(--jp-cell-editor-border-color);}\n",
              ".datatable .na {  color: var(--jp-cell-editor-border-color);  font-size: 80%;}\n",
              ".datatable .sp {  opacity: 0.25;}\n",
              ".datatable .footer { font-size: 9px; }\n",
              ".datatable .frame_dimensions {  background: var(--jp-border-color3);  border-top: 1px solid var(--jp-border-color0);  color: var(--jp-ui-font-color3);  display: inline-block;  opacity: 0.6;  padding: 1px 10px 1px 5px;}\n",
              "</style>\n"
            ],
            "text/plain": [
              "<IPython.core.display.HTML object>"
            ]
          },
          "metadata": {}
        }
      ]
    },
    {
      "cell_type": "markdown",
      "source": [
        "#Data Collection"
      ],
      "metadata": {
        "id": "iv3Urp75Rbwf"
      }
    },
    {
      "cell_type": "code",
      "source": [
        "electronics= Amazon(\"electronics\")\n",
        "electronics.info()"
      ],
      "metadata": {
        "colab": {
          "base_uri": "https://localhost:8080/",
          "height": 180
        },
        "id": "o3TkSsBZt0Qc",
        "outputId": "dd1f2995-4d63-4465-b334-7068096fbcf5"
      },
      "execution_count": null,
      "outputs": [
        {
          "output_type": "stream",
          "name": "stdout",
          "text": [
            "ratings\n"
          ]
        },
        {
          "output_type": "display_data",
          "data": {
            "text/html": [
              "\n",
              "  <div id=\"df-76b981db-1848-4033-baa8-89aafe60a8f8\">\n",
              "    <div class=\"colab-df-container\">\n",
              "      <div>\n",
              "<style scoped>\n",
              "    .dataframe tbody tr th:only-of-type {\n",
              "        vertical-align: middle;\n",
              "    }\n",
              "\n",
              "    .dataframe tbody tr th {\n",
              "        vertical-align: top;\n",
              "    }\n",
              "\n",
              "    .dataframe thead th {\n",
              "        text-align: right;\n",
              "    }\n",
              "</style>\n",
              "<table border=\"1\" class=\"dataframe\">\n",
              "  <thead>\n",
              "    <tr style=\"text-align: right;\">\n",
              "      <th></th>\n",
              "      <th>user_id</th>\n",
              "      <th>item_id</th>\n",
              "      <th>rating</th>\n",
              "      <th>timestamp</th>\n",
              "    </tr>\n",
              "  </thead>\n",
              "  <tbody>\n",
              "    <tr>\n",
              "      <th>0</th>\n",
              "      <td>0060009810</td>\n",
              "      <td>A1N070NS9CJQ2I</td>\n",
              "      <td>5.0</td>\n",
              "      <td>1026864000</td>\n",
              "    </tr>\n",
              "    <tr>\n",
              "      <th>1</th>\n",
              "      <td>0060009810</td>\n",
              "      <td>A3P0KRKOBQK1KN</td>\n",
              "      <td>5.0</td>\n",
              "      <td>1025913600</td>\n",
              "    </tr>\n",
              "    <tr>\n",
              "      <th>2</th>\n",
              "      <td>0060009810</td>\n",
              "      <td>A192HO2ICJ75VU</td>\n",
              "      <td>5.0</td>\n",
              "      <td>1025654400</td>\n",
              "    </tr>\n",
              "  </tbody>\n",
              "</table>\n",
              "</div>\n",
              "      <button class=\"colab-df-convert\" onclick=\"convertToInteractive('df-76b981db-1848-4033-baa8-89aafe60a8f8')\"\n",
              "              title=\"Convert this dataframe to an interactive table.\"\n",
              "              style=\"display:none;\">\n",
              "        \n",
              "  <svg xmlns=\"http://www.w3.org/2000/svg\" height=\"24px\"viewBox=\"0 0 24 24\"\n",
              "       width=\"24px\">\n",
              "    <path d=\"M0 0h24v24H0V0z\" fill=\"none\"/>\n",
              "    <path d=\"M18.56 5.44l.94 2.06.94-2.06 2.06-.94-2.06-.94-.94-2.06-.94 2.06-2.06.94zm-11 1L8.5 8.5l.94-2.06 2.06-.94-2.06-.94L8.5 2.5l-.94 2.06-2.06.94zm10 10l.94 2.06.94-2.06 2.06-.94-2.06-.94-.94-2.06-.94 2.06-2.06.94z\"/><path d=\"M17.41 7.96l-1.37-1.37c-.4-.4-.92-.59-1.43-.59-.52 0-1.04.2-1.43.59L10.3 9.45l-7.72 7.72c-.78.78-.78 2.05 0 2.83L4 21.41c.39.39.9.59 1.41.59.51 0 1.02-.2 1.41-.59l7.78-7.78 2.81-2.81c.8-.78.8-2.07 0-2.86zM5.41 20L4 18.59l7.72-7.72 1.47 1.35L5.41 20z\"/>\n",
              "  </svg>\n",
              "      </button>\n",
              "      \n",
              "  <style>\n",
              "    .colab-df-container {\n",
              "      display:flex;\n",
              "      flex-wrap:wrap;\n",
              "      gap: 12px;\n",
              "    }\n",
              "\n",
              "    .colab-df-convert {\n",
              "      background-color: #E8F0FE;\n",
              "      border: none;\n",
              "      border-radius: 50%;\n",
              "      cursor: pointer;\n",
              "      display: none;\n",
              "      fill: #1967D2;\n",
              "      height: 32px;\n",
              "      padding: 0 0 0 0;\n",
              "      width: 32px;\n",
              "    }\n",
              "\n",
              "    .colab-df-convert:hover {\n",
              "      background-color: #E2EBFA;\n",
              "      box-shadow: 0px 1px 2px rgba(60, 64, 67, 0.3), 0px 1px 3px 1px rgba(60, 64, 67, 0.15);\n",
              "      fill: #174EA6;\n",
              "    }\n",
              "\n",
              "    [theme=dark] .colab-df-convert {\n",
              "      background-color: #3B4455;\n",
              "      fill: #D2E3FC;\n",
              "    }\n",
              "\n",
              "    [theme=dark] .colab-df-convert:hover {\n",
              "      background-color: #434B5C;\n",
              "      box-shadow: 0px 1px 3px 1px rgba(0, 0, 0, 0.15);\n",
              "      filter: drop-shadow(0px 1px 2px rgba(0, 0, 0, 0.3));\n",
              "      fill: #FFFFFF;\n",
              "    }\n",
              "  </style>\n",
              "\n",
              "      <script>\n",
              "        const buttonEl =\n",
              "          document.querySelector('#df-76b981db-1848-4033-baa8-89aafe60a8f8 button.colab-df-convert');\n",
              "        buttonEl.style.display =\n",
              "          google.colab.kernel.accessAllowed ? 'block' : 'none';\n",
              "\n",
              "        async function convertToInteractive(key) {\n",
              "          const element = document.querySelector('#df-76b981db-1848-4033-baa8-89aafe60a8f8');\n",
              "          const dataTable =\n",
              "            await google.colab.kernel.invokeFunction('convertToInteractive',\n",
              "                                                     [key], {});\n",
              "          if (!dataTable) return;\n",
              "\n",
              "          const docLinkHtml = 'Like what you see? Visit the ' +\n",
              "            '<a target=\"_blank\" href=https://colab.research.google.com/notebooks/data_table.ipynb>data table notebook</a>'\n",
              "            + ' to learn more about interactive tables.';\n",
              "          element.innerHTML = '';\n",
              "          dataTable['output_type'] = 'display_data';\n",
              "          await google.colab.output.renderOutput(dataTable, element);\n",
              "          const docLink = document.createElement('div');\n",
              "          docLink.innerHTML = docLinkHtml;\n",
              "          element.appendChild(docLink);\n",
              "        }\n",
              "      </script>\n",
              "    </div>\n",
              "  </div>\n",
              "  "
            ],
            "text/plain": [
              "      user_id         item_id  rating   timestamp\n",
              "0  0060009810  A1N070NS9CJQ2I     5.0  1026864000\n",
              "1  0060009810  A3P0KRKOBQK1KN     5.0  1025913600\n",
              "2  0060009810  A192HO2ICJ75VU     5.0  1025654400"
            ]
          },
          "metadata": {}
        },
        {
          "output_type": "stream",
          "name": "stdout",
          "text": [
            "\n"
          ]
        }
      ]
    },
    {
      "cell_type": "markdown",
      "source": [
        "**Shape of the data**"
      ],
      "metadata": {
        "id": "gZA2m9Q7W9ww"
      }
    },
    {
      "cell_type": "code",
      "source": [
        "electronics.ratings.shape"
      ],
      "metadata": {
        "colab": {
          "base_uri": "https://localhost:8080/"
        },
        "id": "3T0J_IiZPSEC",
        "outputId": "b4ec9ef7-e29e-41eb-c890-2f54278be2f4"
      },
      "execution_count": null,
      "outputs": [
        {
          "output_type": "execute_result",
          "data": {
            "text/plain": [
              "(20994353, 4)"
            ]
          },
          "metadata": {},
          "execution_count": 4
        }
      ]
    },
    {
      "cell_type": "code",
      "source": [
        "print(\"Number of rows = {0} and Number of Columns = {1} in Data frame\".format(electronics.ratings.shape[0],electronics.ratings.shape[1]))"
      ],
      "metadata": {
        "id": "4JtCJsi0XJOd",
        "colab": {
          "base_uri": "https://localhost:8080/"
        },
        "outputId": "62cabffa-9622-4b5e-8d2b-42a348081c28"
      },
      "execution_count": null,
      "outputs": [
        {
          "output_type": "stream",
          "name": "stdout",
          "text": [
            "Number of rows = 20994353 and Number of Columns = 4 in Data frame\n"
          ]
        }
      ]
    },
    {
      "cell_type": "code",
      "source": [
        "electronics.ratings.head()"
      ],
      "metadata": {
        "colab": {
          "base_uri": "https://localhost:8080/",
          "height": 206
        },
        "id": "ooLXemAgPlYg",
        "outputId": "9173d4b7-8d15-4c26-fc8b-862786721eba"
      },
      "execution_count": null,
      "outputs": [
        {
          "output_type": "execute_result",
          "data": {
            "text/html": [
              "\n",
              "  <div id=\"df-4df21eee-5c79-4c32-8526-d8f87a16a462\">\n",
              "    <div class=\"colab-df-container\">\n",
              "      <div>\n",
              "<style scoped>\n",
              "    .dataframe tbody tr th:only-of-type {\n",
              "        vertical-align: middle;\n",
              "    }\n",
              "\n",
              "    .dataframe tbody tr th {\n",
              "        vertical-align: top;\n",
              "    }\n",
              "\n",
              "    .dataframe thead th {\n",
              "        text-align: right;\n",
              "    }\n",
              "</style>\n",
              "<table border=\"1\" class=\"dataframe\">\n",
              "  <thead>\n",
              "    <tr style=\"text-align: right;\">\n",
              "      <th></th>\n",
              "      <th>user_id</th>\n",
              "      <th>item_id</th>\n",
              "      <th>rating</th>\n",
              "      <th>timestamp</th>\n",
              "    </tr>\n",
              "  </thead>\n",
              "  <tbody>\n",
              "    <tr>\n",
              "      <th>0</th>\n",
              "      <td>0060009810</td>\n",
              "      <td>A1N070NS9CJQ2I</td>\n",
              "      <td>5.0</td>\n",
              "      <td>1026864000</td>\n",
              "    </tr>\n",
              "    <tr>\n",
              "      <th>1</th>\n",
              "      <td>0060009810</td>\n",
              "      <td>A3P0KRKOBQK1KN</td>\n",
              "      <td>5.0</td>\n",
              "      <td>1025913600</td>\n",
              "    </tr>\n",
              "    <tr>\n",
              "      <th>2</th>\n",
              "      <td>0060009810</td>\n",
              "      <td>A192HO2ICJ75VU</td>\n",
              "      <td>5.0</td>\n",
              "      <td>1025654400</td>\n",
              "    </tr>\n",
              "    <tr>\n",
              "      <th>3</th>\n",
              "      <td>0060009810</td>\n",
              "      <td>A2T278FKFL3BLT</td>\n",
              "      <td>4.0</td>\n",
              "      <td>1025395200</td>\n",
              "    </tr>\n",
              "    <tr>\n",
              "      <th>4</th>\n",
              "      <td>0060009810</td>\n",
              "      <td>A2ZUXVTW8RXBXW</td>\n",
              "      <td>5.0</td>\n",
              "      <td>1025222400</td>\n",
              "    </tr>\n",
              "  </tbody>\n",
              "</table>\n",
              "</div>\n",
              "      <button class=\"colab-df-convert\" onclick=\"convertToInteractive('df-4df21eee-5c79-4c32-8526-d8f87a16a462')\"\n",
              "              title=\"Convert this dataframe to an interactive table.\"\n",
              "              style=\"display:none;\">\n",
              "        \n",
              "  <svg xmlns=\"http://www.w3.org/2000/svg\" height=\"24px\"viewBox=\"0 0 24 24\"\n",
              "       width=\"24px\">\n",
              "    <path d=\"M0 0h24v24H0V0z\" fill=\"none\"/>\n",
              "    <path d=\"M18.56 5.44l.94 2.06.94-2.06 2.06-.94-2.06-.94-.94-2.06-.94 2.06-2.06.94zm-11 1L8.5 8.5l.94-2.06 2.06-.94-2.06-.94L8.5 2.5l-.94 2.06-2.06.94zm10 10l.94 2.06.94-2.06 2.06-.94-2.06-.94-.94-2.06-.94 2.06-2.06.94z\"/><path d=\"M17.41 7.96l-1.37-1.37c-.4-.4-.92-.59-1.43-.59-.52 0-1.04.2-1.43.59L10.3 9.45l-7.72 7.72c-.78.78-.78 2.05 0 2.83L4 21.41c.39.39.9.59 1.41.59.51 0 1.02-.2 1.41-.59l7.78-7.78 2.81-2.81c.8-.78.8-2.07 0-2.86zM5.41 20L4 18.59l7.72-7.72 1.47 1.35L5.41 20z\"/>\n",
              "  </svg>\n",
              "      </button>\n",
              "      \n",
              "  <style>\n",
              "    .colab-df-container {\n",
              "      display:flex;\n",
              "      flex-wrap:wrap;\n",
              "      gap: 12px;\n",
              "    }\n",
              "\n",
              "    .colab-df-convert {\n",
              "      background-color: #E8F0FE;\n",
              "      border: none;\n",
              "      border-radius: 50%;\n",
              "      cursor: pointer;\n",
              "      display: none;\n",
              "      fill: #1967D2;\n",
              "      height: 32px;\n",
              "      padding: 0 0 0 0;\n",
              "      width: 32px;\n",
              "    }\n",
              "\n",
              "    .colab-df-convert:hover {\n",
              "      background-color: #E2EBFA;\n",
              "      box-shadow: 0px 1px 2px rgba(60, 64, 67, 0.3), 0px 1px 3px 1px rgba(60, 64, 67, 0.15);\n",
              "      fill: #174EA6;\n",
              "    }\n",
              "\n",
              "    [theme=dark] .colab-df-convert {\n",
              "      background-color: #3B4455;\n",
              "      fill: #D2E3FC;\n",
              "    }\n",
              "\n",
              "    [theme=dark] .colab-df-convert:hover {\n",
              "      background-color: #434B5C;\n",
              "      box-shadow: 0px 1px 3px 1px rgba(0, 0, 0, 0.15);\n",
              "      filter: drop-shadow(0px 1px 2px rgba(0, 0, 0, 0.3));\n",
              "      fill: #FFFFFF;\n",
              "    }\n",
              "  </style>\n",
              "\n",
              "      <script>\n",
              "        const buttonEl =\n",
              "          document.querySelector('#df-4df21eee-5c79-4c32-8526-d8f87a16a462 button.colab-df-convert');\n",
              "        buttonEl.style.display =\n",
              "          google.colab.kernel.accessAllowed ? 'block' : 'none';\n",
              "\n",
              "        async function convertToInteractive(key) {\n",
              "          const element = document.querySelector('#df-4df21eee-5c79-4c32-8526-d8f87a16a462');\n",
              "          const dataTable =\n",
              "            await google.colab.kernel.invokeFunction('convertToInteractive',\n",
              "                                                     [key], {});\n",
              "          if (!dataTable) return;\n",
              "\n",
              "          const docLinkHtml = 'Like what you see? Visit the ' +\n",
              "            '<a target=\"_blank\" href=https://colab.research.google.com/notebooks/data_table.ipynb>data table notebook</a>'\n",
              "            + ' to learn more about interactive tables.';\n",
              "          element.innerHTML = '';\n",
              "          dataTable['output_type'] = 'display_data';\n",
              "          await google.colab.output.renderOutput(dataTable, element);\n",
              "          const docLink = document.createElement('div');\n",
              "          docLink.innerHTML = docLinkHtml;\n",
              "          element.appendChild(docLink);\n",
              "        }\n",
              "      </script>\n",
              "    </div>\n",
              "  </div>\n",
              "  "
            ],
            "text/plain": [
              "      user_id         item_id  rating   timestamp\n",
              "0  0060009810  A1N070NS9CJQ2I     5.0  1026864000\n",
              "1  0060009810  A3P0KRKOBQK1KN     5.0  1025913600\n",
              "2  0060009810  A192HO2ICJ75VU     5.0  1025654400\n",
              "3  0060009810  A2T278FKFL3BLT     4.0  1025395200\n",
              "4  0060009810  A2ZUXVTW8RXBXW     5.0  1025222400"
            ]
          },
          "metadata": {},
          "execution_count": 6
        }
      ]
    },
    {
      "cell_type": "code",
      "source": [
        "electronics.ratings.info()"
      ],
      "metadata": {
        "colab": {
          "base_uri": "https://localhost:8080/"
        },
        "id": "-IeVV5pdObdN",
        "outputId": "6380adc5-8c5b-4181-cef8-9016e2808e71"
      },
      "execution_count": null,
      "outputs": [
        {
          "output_type": "stream",
          "name": "stdout",
          "text": [
            "<class 'pandas.core.frame.DataFrame'>\n",
            "RangeIndex: 20994353 entries, 0 to 20994352\n",
            "Data columns (total 4 columns):\n",
            " #   Column     Dtype  \n",
            "---  ------     -----  \n",
            " 0   user_id    object \n",
            " 1   item_id    object \n",
            " 2   rating     float64\n",
            " 3   timestamp  int32  \n",
            "dtypes: float64(1), int32(1), object(2)\n",
            "memory usage: 560.6+ MB\n"
          ]
        }
      ]
    },
    {
      "cell_type": "markdown",
      "source": [
        "The dataset is utilizing almost 560MB of disk space due to 20994352 rows and 4 columns.\n",
        "There will be memory issues unless we make the dataset more dense."
      ],
      "metadata": {
        "id": "3fkCq4dERhJG"
      }
    },
    {
      "cell_type": "markdown",
      "source": [
        "##Take a new subset"
      ],
      "metadata": {
        "id": "9ZdCNZkPQrWz"
      }
    },
    {
      "cell_type": "markdown",
      "source": [
        "**Subset of the Dataset**\n",
        "\n",
        "Since the data is very big. Consider electronics named dataframe with first 5% of data which contains 20994352 rows and all columns from 0 of dataset."
      ],
      "metadata": {
        "id": "b_jr7jDmYDO4"
      }
    },
    {
      "cell_type": "code",
      "source": [
        "# Taking 5% of the dataset\n",
        "electronics.ratings = electronics.ratings.iloc[:1048000,0:]"
      ],
      "metadata": {
        "id": "MNhllz5qYS8p"
      },
      "execution_count": null,
      "outputs": []
    },
    {
      "cell_type": "markdown",
      "source": [
        "#Data cleaning"
      ],
      "metadata": {
        "id": "IaRYRuIqalyL"
      }
    },
    {
      "cell_type": "markdown",
      "source": [
        "##Check for missing values"
      ],
      "metadata": {
        "id": "MrJW1O_NbMEG"
      }
    },
    {
      "cell_type": "code",
      "source": [
        "\n",
        "print('Number of missing values across columns: \\n',electronics.ratings.isna().sum())"
      ],
      "metadata": {
        "colab": {
          "base_uri": "https://localhost:8080/"
        },
        "id": "c0DnMV5HTXpC",
        "outputId": "2970af9f-b396-4549-a9f7-85cf7cd61643"
      },
      "execution_count": null,
      "outputs": [
        {
          "output_type": "stream",
          "name": "stdout",
          "text": [
            "Number of missing values across columns: \n",
            " user_id      0\n",
            "item_id      0\n",
            "rating       0\n",
            "timestamp    0\n",
            "dtype: int64\n"
          ]
        }
      ]
    },
    {
      "cell_type": "markdown",
      "source": [
        "- There are no missing values, so no imputation required"
      ],
      "metadata": {
        "id": "BJpVWTJPTh7G"
      }
    },
    {
      "cell_type": "markdown",
      "source": [
        "##Check and find the max & min ratings given by user for a particular item"
      ],
      "metadata": {
        "id": "JafA82FtbYvA"
      }
    },
    {
      "cell_type": "code",
      "source": [
        "#Find the minimum and maximum ratings - It is between 1 and 5\n",
        "print('Minimum rating is: %d' %(electronics.ratings.rating.min()))\n",
        "print('Maximum rating is: %d' %(electronics.ratings.rating.max()))"
      ],
      "metadata": {
        "colab": {
          "base_uri": "https://localhost:8080/"
        },
        "id": "K9hCsnxJS_rU",
        "outputId": "395f2538-9715-403b-9e3e-54a932bbe0dc"
      },
      "execution_count": null,
      "outputs": [
        {
          "output_type": "stream",
          "name": "stdout",
          "text": [
            "Minimum rating is: 1\n",
            "Maximum rating is: 5\n"
          ]
        }
      ]
    },
    {
      "cell_type": "code",
      "source": [
        "print(\"Total data \")\n",
        "print(\"-\"*50)\n",
        "print(\"\\nTotal number of electronics :\",electronics.ratings.shape[0])\n",
        "print(\"Total number of Users   :\", len(np.unique(electronics.ratings.user_id)))\n",
        "print(\"Total number of Items  :\", len(np.unique(electronics.ratings.item_id)))"
      ],
      "metadata": {
        "colab": {
          "base_uri": "https://localhost:8080/"
        },
        "id": "zMxMc4p_Z7Ha",
        "outputId": "8f067cb0-8e96-403b-8986-883faaee57fd"
      },
      "execution_count": null,
      "outputs": [
        {
          "output_type": "stream",
          "name": "stdout",
          "text": [
            "Total data \n",
            "--------------------------------------------------\n",
            "\n",
            "Total number of electronics : 1048000\n",
            "Total number of Users   : 12751\n",
            "Total number of Items  : 824406\n"
          ]
        }
      ]
    },
    {
      "cell_type": "markdown",
      "source": [
        "Number of items (825435) is more than number of users(12770)"
      ],
      "metadata": {
        "id": "mpusYP9XbOTV"
      }
    },
    {
      "cell_type": "code",
      "source": [
        "#Check and find the max ratings given by user for a particular item\n",
        "max_ratings = electronics.ratings.groupby(['user_id','item_id'])['rating'].max().sort_values(ascending=False)"
      ],
      "metadata": {
        "id": "9C_O9AM6b2gO"
      },
      "execution_count": null,
      "outputs": []
    },
    {
      "cell_type": "code",
      "source": [
        "max_ratings.head()"
      ],
      "metadata": {
        "colab": {
          "base_uri": "https://localhost:8080/"
        },
        "id": "e1aNl6MhcUQA",
        "outputId": "0dddc536-318c-4ff3-a7bc-ac6c5372eeba"
      },
      "execution_count": null,
      "outputs": [
        {
          "output_type": "execute_result",
          "data": {
            "text/plain": [
              "user_id     item_id       \n",
              "0060009810  A192HO2ICJ75VU    5.0\n",
              "B0002BEX8W  A47NRR5MQQC9J     5.0\n",
              "            A3KDNTHXTUCV5T    5.0\n",
              "            A3KDU4JQCRWPON    5.0\n",
              "            A3KESNU3TFSUHM    5.0\n",
              "Name: rating, dtype: float64"
            ]
          },
          "metadata": {},
          "execution_count": 13
        }
      ]
    },
    {
      "cell_type": "code",
      "source": [
        "#Check and find the min ratings given by user for a particular item\n",
        "min_ratings = electronics.ratings.groupby(['user_id','item_id'])['rating'].min().sort_values(ascending=False)"
      ],
      "metadata": {
        "id": "MQnwEUc_dTkR"
      },
      "execution_count": null,
      "outputs": []
    },
    {
      "cell_type": "code",
      "source": [
        "min_ratings.head()"
      ],
      "metadata": {
        "colab": {
          "base_uri": "https://localhost:8080/"
        },
        "id": "H8cYq5yrdstu",
        "outputId": "82917d7e-93af-4977-f069-8c4fa5db558f"
      },
      "execution_count": null,
      "outputs": [
        {
          "output_type": "execute_result",
          "data": {
            "text/plain": [
              "user_id     item_id       \n",
              "0060009810  A192HO2ICJ75VU    5.0\n",
              "B0002BEX8W  A1BNL5EKU6MYHE    5.0\n",
              "B0002BEV9S  A283I2F60653XT    5.0\n",
              "            A2DJ76T5745UWH    5.0\n",
              "            A2E7SZOA4MRYD0    5.0\n",
              "Name: rating, dtype: float64"
            ]
          },
          "metadata": {},
          "execution_count": 14
        }
      ]
    },
    {
      "cell_type": "markdown",
      "source": [
        "After min and max calculation, we see that the ratings are identical for the sample.\n",
        "\n",
        "To be sure, let us remove duplicates."
      ],
      "metadata": {
        "id": "rB-sqvc3d8BB"
      }
    },
    {
      "cell_type": "markdown",
      "source": [
        "##Check Duplicates"
      ],
      "metadata": {
        "id": "beU8R6xnb3jK"
      }
    },
    {
      "cell_type": "code",
      "source": [
        "electronics.ratings.drop_duplicates(inplace=True)"
      ],
      "metadata": {
        "id": "7bhvfnOgeldg"
      },
      "execution_count": null,
      "outputs": []
    },
    {
      "cell_type": "markdown",
      "source": [
        "No duplicates in this dataset."
      ],
      "metadata": {
        "id": "rX715_xwb9yi"
      }
    },
    {
      "cell_type": "markdown",
      "source": [
        "#Data Analysis and Preparation"
      ],
      "metadata": {
        "id": "LkfdjhFycWBQ"
      }
    },
    {
      "cell_type": "code",
      "source": [
        "# Summary statistics of 'rating' variable\n",
        "electronics.ratings.describe()"
      ],
      "metadata": {
        "id": "hsONxmhecvN-",
        "colab": {
          "base_uri": "https://localhost:8080/",
          "height": 300
        },
        "outputId": "eb699f02-da33-4c76-cff2-128b056e8e73"
      },
      "execution_count": null,
      "outputs": [
        {
          "output_type": "execute_result",
          "data": {
            "text/html": [
              "\n",
              "  <div id=\"df-c05c2ad3-25cc-44fb-ab02-be88def9eb0c\">\n",
              "    <div class=\"colab-df-container\">\n",
              "      <div>\n",
              "<style scoped>\n",
              "    .dataframe tbody tr th:only-of-type {\n",
              "        vertical-align: middle;\n",
              "    }\n",
              "\n",
              "    .dataframe tbody tr th {\n",
              "        vertical-align: top;\n",
              "    }\n",
              "\n",
              "    .dataframe thead th {\n",
              "        text-align: right;\n",
              "    }\n",
              "</style>\n",
              "<table border=\"1\" class=\"dataframe\">\n",
              "  <thead>\n",
              "    <tr style=\"text-align: right;\">\n",
              "      <th></th>\n",
              "      <th>rating</th>\n",
              "      <th>timestamp</th>\n",
              "    </tr>\n",
              "  </thead>\n",
              "  <tbody>\n",
              "    <tr>\n",
              "      <th>count</th>\n",
              "      <td>1.046454e+06</td>\n",
              "      <td>1.046454e+06</td>\n",
              "    </tr>\n",
              "    <tr>\n",
              "      <th>mean</th>\n",
              "      <td>4.139762e+00</td>\n",
              "      <td>1.336665e+09</td>\n",
              "    </tr>\n",
              "    <tr>\n",
              "      <th>std</th>\n",
              "      <td>1.319234e+00</td>\n",
              "      <td>1.306967e+08</td>\n",
              "    </tr>\n",
              "    <tr>\n",
              "      <th>min</th>\n",
              "      <td>1.000000e+00</td>\n",
              "      <td>8.811936e+08</td>\n",
              "    </tr>\n",
              "    <tr>\n",
              "      <th>25%</th>\n",
              "      <td>4.000000e+00</td>\n",
              "      <td>1.233533e+09</td>\n",
              "    </tr>\n",
              "    <tr>\n",
              "      <th>50%</th>\n",
              "      <td>5.000000e+00</td>\n",
              "      <td>1.377216e+09</td>\n",
              "    </tr>\n",
              "    <tr>\n",
              "      <th>75%</th>\n",
              "      <td>5.000000e+00</td>\n",
              "      <td>1.436746e+09</td>\n",
              "    </tr>\n",
              "    <tr>\n",
              "      <th>max</th>\n",
              "      <td>5.000000e+00</td>\n",
              "      <td>1.526342e+09</td>\n",
              "    </tr>\n",
              "  </tbody>\n",
              "</table>\n",
              "</div>\n",
              "      <button class=\"colab-df-convert\" onclick=\"convertToInteractive('df-c05c2ad3-25cc-44fb-ab02-be88def9eb0c')\"\n",
              "              title=\"Convert this dataframe to an interactive table.\"\n",
              "              style=\"display:none;\">\n",
              "        \n",
              "  <svg xmlns=\"http://www.w3.org/2000/svg\" height=\"24px\"viewBox=\"0 0 24 24\"\n",
              "       width=\"24px\">\n",
              "    <path d=\"M0 0h24v24H0V0z\" fill=\"none\"/>\n",
              "    <path d=\"M18.56 5.44l.94 2.06.94-2.06 2.06-.94-2.06-.94-.94-2.06-.94 2.06-2.06.94zm-11 1L8.5 8.5l.94-2.06 2.06-.94-2.06-.94L8.5 2.5l-.94 2.06-2.06.94zm10 10l.94 2.06.94-2.06 2.06-.94-2.06-.94-.94-2.06-.94 2.06-2.06.94z\"/><path d=\"M17.41 7.96l-1.37-1.37c-.4-.4-.92-.59-1.43-.59-.52 0-1.04.2-1.43.59L10.3 9.45l-7.72 7.72c-.78.78-.78 2.05 0 2.83L4 21.41c.39.39.9.59 1.41.59.51 0 1.02-.2 1.41-.59l7.78-7.78 2.81-2.81c.8-.78.8-2.07 0-2.86zM5.41 20L4 18.59l7.72-7.72 1.47 1.35L5.41 20z\"/>\n",
              "  </svg>\n",
              "      </button>\n",
              "      \n",
              "  <style>\n",
              "    .colab-df-container {\n",
              "      display:flex;\n",
              "      flex-wrap:wrap;\n",
              "      gap: 12px;\n",
              "    }\n",
              "\n",
              "    .colab-df-convert {\n",
              "      background-color: #E8F0FE;\n",
              "      border: none;\n",
              "      border-radius: 50%;\n",
              "      cursor: pointer;\n",
              "      display: none;\n",
              "      fill: #1967D2;\n",
              "      height: 32px;\n",
              "      padding: 0 0 0 0;\n",
              "      width: 32px;\n",
              "    }\n",
              "\n",
              "    .colab-df-convert:hover {\n",
              "      background-color: #E2EBFA;\n",
              "      box-shadow: 0px 1px 2px rgba(60, 64, 67, 0.3), 0px 1px 3px 1px rgba(60, 64, 67, 0.15);\n",
              "      fill: #174EA6;\n",
              "    }\n",
              "\n",
              "    [theme=dark] .colab-df-convert {\n",
              "      background-color: #3B4455;\n",
              "      fill: #D2E3FC;\n",
              "    }\n",
              "\n",
              "    [theme=dark] .colab-df-convert:hover {\n",
              "      background-color: #434B5C;\n",
              "      box-shadow: 0px 1px 3px 1px rgba(0, 0, 0, 0.15);\n",
              "      filter: drop-shadow(0px 1px 2px rgba(0, 0, 0, 0.3));\n",
              "      fill: #FFFFFF;\n",
              "    }\n",
              "  </style>\n",
              "\n",
              "      <script>\n",
              "        const buttonEl =\n",
              "          document.querySelector('#df-c05c2ad3-25cc-44fb-ab02-be88def9eb0c button.colab-df-convert');\n",
              "        buttonEl.style.display =\n",
              "          google.colab.kernel.accessAllowed ? 'block' : 'none';\n",
              "\n",
              "        async function convertToInteractive(key) {\n",
              "          const element = document.querySelector('#df-c05c2ad3-25cc-44fb-ab02-be88def9eb0c');\n",
              "          const dataTable =\n",
              "            await google.colab.kernel.invokeFunction('convertToInteractive',\n",
              "                                                     [key], {});\n",
              "          if (!dataTable) return;\n",
              "\n",
              "          const docLinkHtml = 'Like what you see? Visit the ' +\n",
              "            '<a target=\"_blank\" href=https://colab.research.google.com/notebooks/data_table.ipynb>data table notebook</a>'\n",
              "            + ' to learn more about interactive tables.';\n",
              "          element.innerHTML = '';\n",
              "          dataTable['output_type'] = 'display_data';\n",
              "          await google.colab.output.renderOutput(dataTable, element);\n",
              "          const docLink = document.createElement('div');\n",
              "          docLink.innerHTML = docLinkHtml;\n",
              "          element.appendChild(docLink);\n",
              "        }\n",
              "      </script>\n",
              "    </div>\n",
              "  </div>\n",
              "  "
            ],
            "text/plain": [
              "             rating     timestamp\n",
              "count  1.046454e+06  1.046454e+06\n",
              "mean   4.139762e+00  1.336665e+09\n",
              "std    1.319234e+00  1.306967e+08\n",
              "min    1.000000e+00  8.811936e+08\n",
              "25%    4.000000e+00  1.233533e+09\n",
              "50%    5.000000e+00  1.377216e+09\n",
              "75%    5.000000e+00  1.436746e+09\n",
              "max    5.000000e+00  1.526342e+09"
            ]
          },
          "metadata": {},
          "execution_count": 16
        }
      ]
    },
    {
      "cell_type": "markdown",
      "source": [
        "##Check the distribution of the rating"
      ],
      "metadata": {
        "id": "IOP9tde3dGTb"
      }
    },
    {
      "cell_type": "code",
      "source": [
        "# Check the distribution of the rating\n",
        "with sns.axes_style('white'):\n",
        "    g = sns.factorplot(\"rating\", data=electronics.ratings, aspect=2.0,kind='count')\n",
        "    g.set_ylabels(\"Count\")"
      ],
      "metadata": {
        "colab": {
          "base_uri": "https://localhost:8080/",
          "height": 458
        },
        "id": "zxznnP9cSAy3",
        "outputId": "175ca941-3709-48b3-a88d-95f0c433b8ea"
      },
      "execution_count": null,
      "outputs": [
        {
          "output_type": "stream",
          "name": "stderr",
          "text": [
            "/usr/local/lib/python3.7/dist-packages/seaborn/categorical.py:3717: UserWarning: The `factorplot` function has been renamed to `catplot`. The original name will be removed in a future release. Please update your code. Note that the default `kind` in `factorplot` (`'point'`) has changed `'strip'` in `catplot`.\n",
            "  warnings.warn(msg)\n",
            "/usr/local/lib/python3.7/dist-packages/seaborn/_decorators.py:43: FutureWarning: Pass the following variable as a keyword arg: x. From version 0.12, the only valid positional argument will be `data`, and passing other arguments without an explicit keyword will result in an error or misinterpretation.\n",
            "  FutureWarning\n"
          ]
        },
        {
          "output_type": "display_data",
          "data": {
            "image/png": "[encoded data removed]",
            "text/plain": [
              "<Figure size 720x360 with 1 Axes>"
            ]
          },
          "metadata": {}
        }
      ]
    },
    {
      "cell_type": "code",
      "source": [
        "# Count users based on ratings\n",
        "for i in range(1,6):\n",
        "  print('Number of users who rated {0} rating = {1}'.format(i, electronics.ratings[electronics.ratings['rating'] == i].shape[0]))"
      ],
      "metadata": {
        "id": "1yWVV-XXeH6q",
        "colab": {
          "base_uri": "https://localhost:8080/"
        },
        "outputId": "84b166a1-46ea-4daa-d621-cf5ad3ec855a"
      },
      "execution_count": null,
      "outputs": [
        {
          "output_type": "stream",
          "name": "stdout",
          "text": [
            "Number of users who rated 1 rating = 103089\n",
            "Number of users who rated 2 rating = 51488\n",
            "Number of users who rated 3 rating = 74707\n",
            "Number of users who rated 4 rating = 183966\n",
            "Number of users who rated 5 rating = 633204\n"
          ]
        }
      ]
    },
    {
      "cell_type": "code",
      "source": [
        "# Number of unique user id and product id in the data\n",
        "print('Number of unique USERS in Raw data = ', electronics.ratings['user_id'].nunique())\n",
        "print('Number of unique ITEMS in Raw data = ', electronics.ratings['item_id'].nunique())"
      ],
      "metadata": {
        "id": "LqRazBdgeJaK",
        "colab": {
          "base_uri": "https://localhost:8080/"
        },
        "outputId": "1132b15c-eff3-4625-a7f0-c15690c96ec5"
      },
      "execution_count": null,
      "outputs": [
        {
          "output_type": "stream",
          "name": "stdout",
          "text": [
            "Number of unique USERS in Raw data =  12751\n",
            "Number of unique ITEMS in Raw data =  824406\n"
          ]
        }
      ]
    },
    {
      "cell_type": "code",
      "source": [
        "# Top 10 users based on rating\n",
        "most_rated_users = electronics.ratings.groupby('user_id').size().sort_values(ascending=False)[:10]\n",
        "most_rated_users"
      ],
      "metadata": {
        "id": "WjVyTnaxeeHX",
        "colab": {
          "base_uri": "https://localhost:8080/"
        },
        "outputId": "73e8dacf-e946-44d2-de82-860d3d09caec"
      },
      "execution_count": null,
      "outputs": [
        {
          "output_type": "execute_result",
          "data": {
            "text/plain": [
              "user_id\n",
              "B000BQ7GW8    13757\n",
              "B0006BB9MG     7586\n",
              "B000A6PPOK     6392\n",
              "B00004ZCJI     5683\n",
              "B00004ZCJJ     5683\n",
              "B00009KLAE     5677\n",
              "B00007M1TZ     5294\n",
              "B000BTL0OA     5038\n",
              "B00020S7XK     4889\n",
              "B00007E7JU     4701\n",
              "dtype: int64"
            ]
          },
          "metadata": {},
          "execution_count": 20
        }
      ]
    },
    {
      "cell_type": "code",
      "source": [
        "# Top 10 items based on rating\n",
        "most_rated_items = electronics.ratings.groupby('user_id').size().sort_values(ascending=False)[:10]\n",
        "most_rated_items"
      ],
      "metadata": {
        "id": "rqDqDjViejEI",
        "colab": {
          "base_uri": "https://localhost:8080/"
        },
        "outputId": "8cdf25a9-29e4-4b5f-c9be-3cc4c869ef64"
      },
      "execution_count": null,
      "outputs": [
        {
          "output_type": "execute_result",
          "data": {
            "text/plain": [
              "user_id\n",
              "B000BQ7GW8    13757\n",
              "B0006BB9MG     7586\n",
              "B000A6PPOK     6392\n",
              "B00004ZCJI     5683\n",
              "B00004ZCJJ     5683\n",
              "B00009KLAE     5677\n",
              "B00007M1TZ     5294\n",
              "B000BTL0OA     5038\n",
              "B00020S7XK     4889\n",
              "B00007E7JU     4701\n",
              "dtype: int64"
            ]
          },
          "metadata": {},
          "execution_count": 21
        }
      ]
    },
    {
      "cell_type": "markdown",
      "source": [
        "##Analysis of Items rating's given by a particular user"
      ],
      "metadata": {
        "id": "43zKzq6KfqX2"
      }
    },
    {
      "cell_type": "code",
      "source": [
        "no_of_rated_items_per_user = electronics.ratings.groupby(by='user_id')['rating'].count().sort_values(ascending=False)\n",
        "no_of_rated_items_per_user.head()"
      ],
      "metadata": {
        "colab": {
          "base_uri": "https://localhost:8080/"
        },
        "id": "dCg-KMJLgChJ",
        "outputId": "2b0d7db6-18d4-487c-ffa6-29a453c21c26"
      },
      "execution_count": null,
      "outputs": [
        {
          "output_type": "execute_result",
          "data": {
            "text/plain": [
              "user_id\n",
              "B000BQ7GW8    13757\n",
              "B0006BB9MG     7586\n",
              "B000A6PPOK     6392\n",
              "B00004ZCJI     5683\n",
              "B00004ZCJJ     5683\n",
              "Name: rating, dtype: int64"
            ]
          },
          "metadata": {},
          "execution_count": 22
        }
      ]
    },
    {
      "cell_type": "markdown",
      "source": [
        "We have certain users who have rated only 1 product and few users have rated upto 13757 products.\n",
        "However the number of rated products per user is fairly skewed seeing the 5 point summary.\n",
        "\n",
        "Max is 13757 and 75% percentile is at 53."
      ],
      "metadata": {
        "id": "0-jSnO6IgkEm"
      }
    },
    {
      "cell_type": "code",
      "source": [
        "no_of_rated_items_per_user.describe().astype(int).T"
      ],
      "metadata": {
        "colab": {
          "base_uri": "https://localhost:8080/"
        },
        "id": "mmEud4U5gx2R",
        "outputId": "1f4716e0-8733-4270-cfa6-85d6ce0a9feb"
      },
      "execution_count": null,
      "outputs": [
        {
          "output_type": "execute_result",
          "data": {
            "text/plain": [
              "count    12751\n",
              "mean        82\n",
              "std        310\n",
              "min          1\n",
              "25%          6\n",
              "50%         17\n",
              "75%         53\n",
              "max      13757\n",
              "Name: rating, dtype: int64"
            ]
          },
          "metadata": {},
          "execution_count": 23
        }
      ]
    },
    {
      "cell_type": "code",
      "source": [
        "print('\\n Number of rated items more than 150 per user : {}\\n'.format(sum(no_of_rated_items_per_user >= 150)) )"
      ],
      "metadata": {
        "colab": {
          "base_uri": "https://localhost:8080/"
        },
        "id": "f4ikh2t3hazM",
        "outputId": "4a9191a6-e0bf-4799-9d8d-33e67b2826d3"
      },
      "execution_count": null,
      "outputs": [
        {
          "output_type": "stream",
          "name": "stdout",
          "text": [
            "\n",
            " Number of rated items more than 100 per user : 1336\n",
            "\n"
          ]
        }
      ]
    },
    {
      "cell_type": "markdown",
      "source": [
        "##Take a new subset of the actual dataset\n",
        "Filtering the users who has given 150 or more number of ratings\n"
      ],
      "metadata": {
        "id": "HQmYx076etD6"
      }
    },
    {
      "cell_type": "code",
      "source": [
        "#Getting the new dataframe which contains users who has given 60 or more ratings\n",
        "new_df=electronics.ratings.groupby(\"user_id\").filter(lambda x:x['rating'].count() >=150)"
      ],
      "metadata": {
        "id": "VmNjIs4Zh0UF"
      },
      "execution_count": null,
      "outputs": []
    },
    {
      "cell_type": "markdown",
      "source": [
        "###Shape of the data"
      ],
      "metadata": {
        "id": "HSyvYqs-RPE4"
      }
    },
    {
      "cell_type": "code",
      "source": [
        "new_df.shape"
      ],
      "metadata": {
        "colab": {
          "base_uri": "https://localhost:8080/"
        },
        "id": "gH6dJCdrRc1t",
        "outputId": "47572fb3-58d4-489e-aeea-407372362834"
      },
      "execution_count": null,
      "outputs": [
        {
          "output_type": "execute_result",
          "data": {
            "text/plain": [
              "(743455, 4)"
            ]
          },
          "metadata": {},
          "execution_count": 28
        }
      ]
    },
    {
      "cell_type": "markdown",
      "source": [
        "###Data type of each attribute"
      ],
      "metadata": {
        "id": "mFX1TOzqRM5i"
      }
    },
    {
      "cell_type": "code",
      "source": [
        "new_df.info()"
      ],
      "metadata": {
        "colab": {
          "base_uri": "https://localhost:8080/"
        },
        "id": "zG30ICMpRrgg",
        "outputId": "8c06d798-cd83-4ca4-e78b-1a44314df886"
      },
      "execution_count": null,
      "outputs": [
        {
          "output_type": "stream",
          "name": "stdout",
          "text": [
            "<class 'pandas.core.frame.DataFrame'>\n",
            "Int64Index: 743455 entries, 743 to 1047999\n",
            "Data columns (total 4 columns):\n",
            " #   Column     Non-Null Count   Dtype  \n",
            "---  ------     --------------   -----  \n",
            " 0   user_id    743455 non-null  object \n",
            " 1   item_id    743455 non-null  object \n",
            " 2   rating     743455 non-null  float64\n",
            " 3   timestamp  743455 non-null  int32  \n",
            "dtypes: float64(1), int32(1), object(2)\n",
            "memory usage: 25.5+ MB\n"
          ]
        }
      ]
    },
    {
      "cell_type": "markdown",
      "source": [
        "###Point summary of numerical attributes"
      ],
      "metadata": {
        "id": "PT2jBvmVRxAS"
      }
    },
    {
      "cell_type": "code",
      "source": [
        "display(new_df[['rating']].describe().transpose())"
      ],
      "metadata": {
        "colab": {
          "base_uri": "https://localhost:8080/",
          "height": 81
        },
        "id": "B5fHKrniR58h",
        "outputId": "14b1f4fb-b9a8-4cdb-9573-d3bf14f526ac"
      },
      "execution_count": null,
      "outputs": [
        {
          "output_type": "display_data",
          "data": {
            "text/html": [
              "\n",
              "  <div id=\"df-254e7a97-3cf4-4c88-8461-73fae0ddb10d\">\n",
              "    <div class=\"colab-df-container\">\n",
              "      <div>\n",
              "<style scoped>\n",
              "    .dataframe tbody tr th:only-of-type {\n",
              "        vertical-align: middle;\n",
              "    }\n",
              "\n",
              "    .dataframe tbody tr th {\n",
              "        vertical-align: top;\n",
              "    }\n",
              "\n",
              "    .dataframe thead th {\n",
              "        text-align: right;\n",
              "    }\n",
              "</style>\n",
              "<table border=\"1\" class=\"dataframe\">\n",
              "  <thead>\n",
              "    <tr style=\"text-align: right;\">\n",
              "      <th></th>\n",
              "      <th>count</th>\n",
              "      <th>mean</th>\n",
              "      <th>std</th>\n",
              "      <th>min</th>\n",
              "      <th>25%</th>\n",
              "      <th>50%</th>\n",
              "      <th>75%</th>\n",
              "      <th>max</th>\n",
              "    </tr>\n",
              "  </thead>\n",
              "  <tbody>\n",
              "    <tr>\n",
              "      <th>rating</th>\n",
              "      <td>743455.0</td>\n",
              "      <td>4.201697</td>\n",
              "      <td>1.279062</td>\n",
              "      <td>1.0</td>\n",
              "      <td>4.0</td>\n",
              "      <td>5.0</td>\n",
              "      <td>5.0</td>\n",
              "      <td>5.0</td>\n",
              "    </tr>\n",
              "  </tbody>\n",
              "</table>\n",
              "</div>\n",
              "      <button class=\"colab-df-convert\" onclick=\"convertToInteractive('df-254e7a97-3cf4-4c88-8461-73fae0ddb10d')\"\n",
              "              title=\"Convert this dataframe to an interactive table.\"\n",
              "              style=\"display:none;\">\n",
              "        \n",
              "  <svg xmlns=\"http://www.w3.org/2000/svg\" height=\"24px\"viewBox=\"0 0 24 24\"\n",
              "       width=\"24px\">\n",
              "    <path d=\"M0 0h24v24H0V0z\" fill=\"none\"/>\n",
              "    <path d=\"M18.56 5.44l.94 2.06.94-2.06 2.06-.94-2.06-.94-.94-2.06-.94 2.06-2.06.94zm-11 1L8.5 8.5l.94-2.06 2.06-.94-2.06-.94L8.5 2.5l-.94 2.06-2.06.94zm10 10l.94 2.06.94-2.06 2.06-.94-2.06-.94-.94-2.06-.94 2.06-2.06.94z\"/><path d=\"M17.41 7.96l-1.37-1.37c-.4-.4-.92-.59-1.43-.59-.52 0-1.04.2-1.43.59L10.3 9.45l-7.72 7.72c-.78.78-.78 2.05 0 2.83L4 21.41c.39.39.9.59 1.41.59.51 0 1.02-.2 1.41-.59l7.78-7.78 2.81-2.81c.8-.78.8-2.07 0-2.86zM5.41 20L4 18.59l7.72-7.72 1.47 1.35L5.41 20z\"/>\n",
              "  </svg>\n",
              "      </button>\n",
              "      \n",
              "  <style>\n",
              "    .colab-df-container {\n",
              "      display:flex;\n",
              "      flex-wrap:wrap;\n",
              "      gap: 12px;\n",
              "    }\n",
              "\n",
              "    .colab-df-convert {\n",
              "      background-color: #E8F0FE;\n",
              "      border: none;\n",
              "      border-radius: 50%;\n",
              "      cursor: pointer;\n",
              "      display: none;\n",
              "      fill: #1967D2;\n",
              "      height: 32px;\n",
              "      padding: 0 0 0 0;\n",
              "      width: 32px;\n",
              "    }\n",
              "\n",
              "    .colab-df-convert:hover {\n",
              "      background-color: #E2EBFA;\n",
              "      box-shadow: 0px 1px 2px rgba(60, 64, 67, 0.3), 0px 1px 3px 1px rgba(60, 64, 67, 0.15);\n",
              "      fill: #174EA6;\n",
              "    }\n",
              "\n",
              "    [theme=dark] .colab-df-convert {\n",
              "      background-color: #3B4455;\n",
              "      fill: #D2E3FC;\n",
              "    }\n",
              "\n",
              "    [theme=dark] .colab-df-convert:hover {\n",
              "      background-color: #434B5C;\n",
              "      box-shadow: 0px 1px 3px 1px rgba(0, 0, 0, 0.15);\n",
              "      filter: drop-shadow(0px 1px 2px rgba(0, 0, 0, 0.3));\n",
              "      fill: #FFFFFF;\n",
              "    }\n",
              "  </style>\n",
              "\n",
              "      <script>\n",
              "        const buttonEl =\n",
              "          document.querySelector('#df-254e7a97-3cf4-4c88-8461-73fae0ddb10d button.colab-df-convert');\n",
              "        buttonEl.style.display =\n",
              "          google.colab.kernel.accessAllowed ? 'block' : 'none';\n",
              "\n",
              "        async function convertToInteractive(key) {\n",
              "          const element = document.querySelector('#df-254e7a97-3cf4-4c88-8461-73fae0ddb10d');\n",
              "          const dataTable =\n",
              "            await google.colab.kernel.invokeFunction('convertToInteractive',\n",
              "                                                     [key], {});\n",
              "          if (!dataTable) return;\n",
              "\n",
              "          const docLinkHtml = 'Like what you see? Visit the ' +\n",
              "            '<a target=\"_blank\" href=https://colab.research.google.com/notebooks/data_table.ipynb>data table notebook</a>'\n",
              "            + ' to learn more about interactive tables.';\n",
              "          element.innerHTML = '';\n",
              "          dataTable['output_type'] = 'display_data';\n",
              "          await google.colab.output.renderOutput(dataTable, element);\n",
              "          const docLink = document.createElement('div');\n",
              "          docLink.innerHTML = docLinkHtml;\n",
              "          element.appendChild(docLink);\n",
              "        }\n",
              "      </script>\n",
              "    </div>\n",
              "  </div>\n",
              "  "
            ],
            "text/plain": [
              "           count      mean       std  min  25%  50%  75%  max\n",
              "rating  743455.0  4.201697  1.279062  1.0  4.0  5.0  5.0  5.0"
            ]
          },
          "metadata": {}
        }
      ]
    },
    {
      "cell_type": "markdown",
      "source": [
        "**Observations**\n",
        "\n",
        "rating : This is can be considered as categorical attribute with values of (1,2,3,4,5). The mean rating is 4.17 which means most of the users have given very good ratings for the items i.e. many records with ratings above 4. This can be seen from the median (Q2), 75% (Q3) and max values as 5. Even 25% (Q1) value is 4.0."
      ],
      "metadata": {
        "id": "wDIZ4qjhSD5c"
      }
    },
    {
      "cell_type": "markdown",
      "source": [
        "###Unique Users and Products Count"
      ],
      "metadata": {
        "id": "Y0ZT5rduSVjF"
      }
    },
    {
      "cell_type": "code",
      "source": [
        "print('Total unique users in the dataset', new_df['user_id'].nunique())\n",
        "print('Total unique items in the dataset', new_df['item_id'].nunique())"
      ],
      "metadata": {
        "colab": {
          "base_uri": "https://localhost:8080/"
        },
        "id": "Ji8e-uuvSUw7",
        "outputId": "fefae19c-9633-4b73-e84e-1d05717cc68d"
      },
      "execution_count": null,
      "outputs": [
        {
          "output_type": "stream",
          "name": "stdout",
          "text": [
            "Total unique users in the dataset 1336\n",
            "Total unique items in the dataset 612161\n"
          ]
        }
      ]
    },
    {
      "cell_type": "markdown",
      "source": [
        "###rating Distribution"
      ],
      "metadata": {
        "id": "jTvUa6tsTDre"
      }
    },
    {
      "cell_type": "code",
      "source": [
        "with sns.axes_style('white'):\n",
        "    g = sns.factorplot(\"rating\", data=new_df, aspect=2.0,kind='count')\n",
        "    g.set_ylabels(\"Count\")"
      ],
      "metadata": {
        "colab": {
          "base_uri": "https://localhost:8080/",
          "height": 458
        },
        "id": "sszu9A2ZrN_Y",
        "outputId": "19eef7ba-8be8-4610-d485-4bb836389ada"
      },
      "execution_count": null,
      "outputs": [
        {
          "output_type": "stream",
          "name": "stderr",
          "text": [
            "/usr/local/lib/python3.7/dist-packages/seaborn/categorical.py:3717: UserWarning: The `factorplot` function has been renamed to `catplot`. The original name will be removed in a future release. Please update your code. Note that the default `kind` in `factorplot` (`'point'`) has changed `'strip'` in `catplot`.\n",
            "  warnings.warn(msg)\n",
            "/usr/local/lib/python3.7/dist-packages/seaborn/_decorators.py:43: FutureWarning: Pass the following variable as a keyword arg: x. From version 0.12, the only valid positional argument will be `data`, and passing other arguments without an explicit keyword will result in an error or misinterpretation.\n",
            "  FutureWarning\n"
          ]
        },
        {
          "output_type": "display_data",
          "data": {
            "image/png": "[encoded data removed]",
            "text/plain": [
              "<Figure size 720x360 with 1 Axes>"
            ]
          },
          "metadata": {}
        }
      ]
    },
    {
      "cell_type": "markdown",
      "source": [
        "**Observations**\n",
        "- Many users have rated 5 as it is shown with the huge spike with a value of more than 400000 records.\n",
        "- This is followed by rating 4 which also has high number with a value of mroe than 150000 records.\n",
        "- More than 50000 users have rated 1.\n",
        "Rating 3 and 2 have been rated below 50000 records."
      ],
      "metadata": {
        "id": "mOKw6n-QT--8"
      }
    },
    {
      "cell_type": "markdown",
      "source": [
        "###Top Rating Count Distribution grouped by Products"
      ],
      "metadata": {
        "id": "9zNC1wNPUfsZ"
      }
    },
    {
      "cell_type": "code",
      "source": [
        "popular_products = pd.DataFrame(new_df.groupby('item_id')['rating'].count())\n",
        "most_popular = popular_products.sort_values('rating', ascending=False)\n",
        "most_popular.head(30).plot(kind = \"bar\",figsize=(12, 4))"
      ],
      "metadata": {
        "colab": {
          "base_uri": "https://localhost:8080/",
          "height": 402
        },
        "id": "8aILgiueUk8u",
        "outputId": "7ff136dd-e6c7-412b-b7a4-f44b6e6d7b00"
      },
      "execution_count": null,
      "outputs": [
        {
          "output_type": "execute_result",
          "data": {
            "text/plain": [
              "<matplotlib.axes._subplots.AxesSubplot at 0x7feda5fb5ad0>"
            ]
          },
          "metadata": {},
          "execution_count": 33
        },
        {
          "output_type": "display_data",
          "data": {
            "image/png": "[encoded data removed]",
            "text/plain": [
              "<Figure size 864x288 with 1 Axes>"
            ]
          },
          "metadata": {}
        }
      ]
    },
    {
      "cell_type": "markdown",
      "source": [
        "###Top Rating Count Distribution grouped by Users"
      ],
      "metadata": {
        "id": "ZkIsy0wvU7zH"
      }
    },
    {
      "cell_type": "code",
      "source": [
        "popular_products = pd.DataFrame(new_df.groupby('user_id')['rating'].count())\n",
        "most_popular = popular_products.sort_values('rating', ascending=False)\n",
        "most_popular.head(70).plot(kind = \"bar\",figsize=(12, 4))"
      ],
      "metadata": {
        "colab": {
          "base_uri": "https://localhost:8080/",
          "height": 371
        },
        "id": "PYL_YCxTU_QR",
        "outputId": "39f7e202-94a7-4804-d6d5-44728cd19889"
      },
      "execution_count": null,
      "outputs": [
        {
          "output_type": "execute_result",
          "data": {
            "text/plain": [
              "<matplotlib.axes._subplots.AxesSubplot at 0x7feda7bd0210>"
            ]
          },
          "metadata": {},
          "execution_count": 34
        },
        {
          "output_type": "display_data",
          "data": {
            "image/png": "[encoded data removed]",
            "text/plain": [
              "<Figure size 864x288 with 1 Axes>"
            ]
          },
          "metadata": {}
        }
      ]
    },
    {
      "cell_type": "markdown",
      "source": [
        "###Mean Rating Distribution grouped by Products"
      ],
      "metadata": {
        "id": "vqbVDi0hVugi"
      }
    },
    {
      "cell_type": "code",
      "source": [
        "item_rating = new_df.groupby('item_id')['rating'].mean()\n",
        "item_rating.head()"
      ],
      "metadata": {
        "colab": {
          "base_uri": "https://localhost:8080/"
        },
        "id": "c6OQOoVzVzgA",
        "outputId": "c03bef89-543f-4042-a692-e13626eb8ed5"
      },
      "execution_count": null,
      "outputs": [
        {
          "output_type": "execute_result",
          "data": {
            "text/plain": [
              "item_id\n",
              "A0004478EF5NFPHLGCWG    4.0\n",
              "A000681618A3WRMCK53V    2.0\n",
              "A0008898NGEXICE0F146    5.0\n",
              "A0010606488RW7ZH6EP7    3.0\n",
              "A0012454SJKX2UXGRO5     5.0\n",
              "Name: rating, dtype: float64"
            ]
          },
          "metadata": {},
          "execution_count": 35
        }
      ]
    },
    {
      "cell_type": "code",
      "source": [
        "ax = sns.kdeplot(item_rating, shade=True, color='grey')\n",
        "plt.show()"
      ],
      "metadata": {
        "colab": {
          "base_uri": "https://localhost:8080/",
          "height": 285
        },
        "id": "7FF19pCJs9Gy",
        "outputId": "bfef1607-aa23-45be-f00f-44b9bf3c748e"
      },
      "execution_count": null,
      "outputs": [
        {
          "output_type": "display_data",
          "data": {
            "image/png": "[encoded data removed]",
            "text/plain": [
              "<Figure size 432x288 with 1 Axes>"
            ]
          },
          "metadata": {}
        }
      ]
    },
    {
      "cell_type": "markdown",
      "source": [
        "**Observations**\n",
        "This is a mean rating distribution grouped by all the Items.\n",
        "\n",
        "As it can been seen from the plot, there are many Items which were given a Rating of 4 or 5. Hence the plot shows lot of bins between 4 and 5."
      ],
      "metadata": {
        "id": "6wd5_JusV6wC"
      }
    },
    {
      "cell_type": "markdown",
      "source": [
        "###Mean Rating Distribution grouped by Users"
      ],
      "metadata": {
        "id": "yytHjlh5W6gX"
      }
    },
    {
      "cell_type": "code",
      "source": [
        "user_rating = new_df.groupby('user_id')['rating'].mean()\n",
        "ax = sns.kdeplot(user_rating, shade=True, color='grey')\n",
        "plt.show()"
      ],
      "metadata": {
        "colab": {
          "base_uri": "https://localhost:8080/",
          "height": 285
        },
        "id": "bSuMPA6vW-3t",
        "outputId": "5e9f24e3-dd7c-4e4e-9634-6ee2b20980ab"
      },
      "execution_count": null,
      "outputs": [
        {
          "output_type": "display_data",
          "data": {
            "image/png": "[encoded data removed]",
            "text/plain": [
              "<Figure size 432x288 with 1 Axes>"
            ]
          },
          "metadata": {}
        }
      ]
    },
    {
      "cell_type": "markdown",
      "source": [
        "Observations\n",
        "This is a mean rating distribution grouped by all the Users. This looks like slightly left skewed normal distribution.\n",
        "\n",
        "Data is uniformly distribution from rating 3 to 5 with many around 4 to 4.5. Many users have an average rating of around 4.5."
      ],
      "metadata": {
        "id": "5gQHFsIAXEWd"
      }
    },
    {
      "cell_type": "markdown",
      "source": [
        "##Convert data to numeric"
      ],
      "metadata": {
        "id": "Fyjx-vPARvF8"
      }
    },
    {
      "cell_type": "code",
      "source": [
        "def transform_data(data):\n",
        "  ratings=data\n",
        "\n",
        "  lab=preprocessing.LabelEncoder()\n",
        "  user_id=ratings[\"user_id\"]\n",
        "  item_id=ratings[\"item_id\"]\n",
        "  trans_user=lab.fit_transform(user_id)\n",
        "  trans_item=lab.fit_transform(item_id)\n",
        "  rating=ratings[\"rating\"]\n",
        "  timestamp=ratings[\"timestamp\"]\n",
        "  return pd.DataFrame({\"user_id\":trans_user,\"item_id\":trans_item,\"rating\":rating,\"timestamp\":timestamp})\n",
        "\n"
      ],
      "metadata": {
        "id": "FssIvqvUvXrn"
      },
      "execution_count": null,
      "outputs": []
    },
    {
      "cell_type": "markdown",
      "source": [
        "We will tronsform from categorial to numeric data and keep the new one."
      ],
      "metadata": {
        "id": "K4bJV1keBiR9"
      }
    },
    {
      "cell_type": "code",
      "source": [
        "electronics=transform_data(new_df)\n",
        "electronics"
      ],
      "metadata": {
        "colab": {
          "base_uri": "https://localhost:8080/",
          "height": 423
        },
        "id": "9DXH-F8CBpAl",
        "outputId": "9ffc4591-6964-4499-84dd-4a5769e46d14"
      },
      "execution_count": null,
      "outputs": [
        {
          "output_type": "execute_result",
          "data": {
            "text/html": [
              "\n",
              "  <div id=\"df-81e07e6c-337d-4a67-8907-c0043c0e3209\">\n",
              "    <div class=\"colab-df-container\">\n",
              "      <div>\n",
              "<style scoped>\n",
              "    .dataframe tbody tr th:only-of-type {\n",
              "        vertical-align: middle;\n",
              "    }\n",
              "\n",
              "    .dataframe tbody tr th {\n",
              "        vertical-align: top;\n",
              "    }\n",
              "\n",
              "    .dataframe thead th {\n",
              "        text-align: right;\n",
              "    }\n",
              "</style>\n",
              "<table border=\"1\" class=\"dataframe\">\n",
              "  <thead>\n",
              "    <tr style=\"text-align: right;\">\n",
              "      <th></th>\n",
              "      <th>user_id</th>\n",
              "      <th>item_id</th>\n",
              "      <th>rating</th>\n",
              "      <th>timestamp</th>\n",
              "    </tr>\n",
              "  </thead>\n",
              "  <tbody>\n",
              "    <tr>\n",
              "      <th>743</th>\n",
              "      <td>0</td>\n",
              "      <td>581059</td>\n",
              "      <td>3.0</td>\n",
              "      <td>1377907200</td>\n",
              "    </tr>\n",
              "    <tr>\n",
              "      <th>744</th>\n",
              "      <td>0</td>\n",
              "      <td>203627</td>\n",
              "      <td>1.0</td>\n",
              "      <td>1375401600</td>\n",
              "    </tr>\n",
              "    <tr>\n",
              "      <th>745</th>\n",
              "      <td>0</td>\n",
              "      <td>126476</td>\n",
              "      <td>4.0</td>\n",
              "      <td>1372291200</td>\n",
              "    </tr>\n",
              "    <tr>\n",
              "      <th>746</th>\n",
              "      <td>0</td>\n",
              "      <td>557823</td>\n",
              "      <td>5.0</td>\n",
              "      <td>1372032000</td>\n",
              "    </tr>\n",
              "    <tr>\n",
              "      <th>747</th>\n",
              "      <td>0</td>\n",
              "      <td>72579</td>\n",
              "      <td>5.0</td>\n",
              "      <td>1370649600</td>\n",
              "    </tr>\n",
              "    <tr>\n",
              "      <th>...</th>\n",
              "      <td>...</td>\n",
              "      <td>...</td>\n",
              "      <td>...</td>\n",
              "      <td>...</td>\n",
              "    </tr>\n",
              "    <tr>\n",
              "      <th>1047995</th>\n",
              "      <td>1335</td>\n",
              "      <td>431670</td>\n",
              "      <td>4.0</td>\n",
              "      <td>1155427200</td>\n",
              "    </tr>\n",
              "    <tr>\n",
              "      <th>1047996</th>\n",
              "      <td>1335</td>\n",
              "      <td>383992</td>\n",
              "      <td>4.0</td>\n",
              "      <td>1155168000</td>\n",
              "    </tr>\n",
              "    <tr>\n",
              "      <th>1047997</th>\n",
              "      <td>1335</td>\n",
              "      <td>261624</td>\n",
              "      <td>4.0</td>\n",
              "      <td>1155081600</td>\n",
              "    </tr>\n",
              "    <tr>\n",
              "      <th>1047998</th>\n",
              "      <td>1335</td>\n",
              "      <td>391266</td>\n",
              "      <td>5.0</td>\n",
              "      <td>1155081600</td>\n",
              "    </tr>\n",
              "    <tr>\n",
              "      <th>1047999</th>\n",
              "      <td>1335</td>\n",
              "      <td>9620</td>\n",
              "      <td>5.0</td>\n",
              "      <td>1155081600</td>\n",
              "    </tr>\n",
              "  </tbody>\n",
              "</table>\n",
              "<p>743455 rows × 4 columns</p>\n",
              "</div>\n",
              "      <button class=\"colab-df-convert\" onclick=\"convertToInteractive('df-81e07e6c-337d-4a67-8907-c0043c0e3209')\"\n",
              "              title=\"Convert this dataframe to an interactive table.\"\n",
              "              style=\"display:none;\">\n",
              "        \n",
              "  <svg xmlns=\"http://www.w3.org/2000/svg\" height=\"24px\"viewBox=\"0 0 24 24\"\n",
              "       width=\"24px\">\n",
              "    <path d=\"M0 0h24v24H0V0z\" fill=\"none\"/>\n",
              "    <path d=\"M18.56 5.44l.94 2.06.94-2.06 2.06-.94-2.06-.94-.94-2.06-.94 2.06-2.06.94zm-11 1L8.5 8.5l.94-2.06 2.06-.94-2.06-.94L8.5 2.5l-.94 2.06-2.06.94zm10 10l.94 2.06.94-2.06 2.06-.94-2.06-.94-.94-2.06-.94 2.06-2.06.94z\"/><path d=\"M17.41 7.96l-1.37-1.37c-.4-.4-.92-.59-1.43-.59-.52 0-1.04.2-1.43.59L10.3 9.45l-7.72 7.72c-.78.78-.78 2.05 0 2.83L4 21.41c.39.39.9.59 1.41.59.51 0 1.02-.2 1.41-.59l7.78-7.78 2.81-2.81c.8-.78.8-2.07 0-2.86zM5.41 20L4 18.59l7.72-7.72 1.47 1.35L5.41 20z\"/>\n",
              "  </svg>\n",
              "      </button>\n",
              "      \n",
              "  <style>\n",
              "    .colab-df-container {\n",
              "      display:flex;\n",
              "      flex-wrap:wrap;\n",
              "      gap: 12px;\n",
              "    }\n",
              "\n",
              "    .colab-df-convert {\n",
              "      background-color: #E8F0FE;\n",
              "      border: none;\n",
              "      border-radius: 50%;\n",
              "      cursor: pointer;\n",
              "      display: none;\n",
              "      fill: #1967D2;\n",
              "      height: 32px;\n",
              "      padding: 0 0 0 0;\n",
              "      width: 32px;\n",
              "    }\n",
              "\n",
              "    .colab-df-convert:hover {\n",
              "      background-color: #E2EBFA;\n",
              "      box-shadow: 0px 1px 2px rgba(60, 64, 67, 0.3), 0px 1px 3px 1px rgba(60, 64, 67, 0.15);\n",
              "      fill: #174EA6;\n",
              "    }\n",
              "\n",
              "    [theme=dark] .colab-df-convert {\n",
              "      background-color: #3B4455;\n",
              "      fill: #D2E3FC;\n",
              "    }\n",
              "\n",
              "    [theme=dark] .colab-df-convert:hover {\n",
              "      background-color: #434B5C;\n",
              "      box-shadow: 0px 1px 3px 1px rgba(0, 0, 0, 0.15);\n",
              "      filter: drop-shadow(0px 1px 2px rgba(0, 0, 0, 0.3));\n",
              "      fill: #FFFFFF;\n",
              "    }\n",
              "  </style>\n",
              "\n",
              "      <script>\n",
              "        const buttonEl =\n",
              "          document.querySelector('#df-81e07e6c-337d-4a67-8907-c0043c0e3209 button.colab-df-convert');\n",
              "        buttonEl.style.display =\n",
              "          google.colab.kernel.accessAllowed ? 'block' : 'none';\n",
              "\n",
              "        async function convertToInteractive(key) {\n",
              "          const element = document.querySelector('#df-81e07e6c-337d-4a67-8907-c0043c0e3209');\n",
              "          const dataTable =\n",
              "            await google.colab.kernel.invokeFunction('convertToInteractive',\n",
              "                                                     [key], {});\n",
              "          if (!dataTable) return;\n",
              "\n",
              "          const docLinkHtml = 'Like what you see? Visit the ' +\n",
              "            '<a target=\"_blank\" href=https://colab.research.google.com/notebooks/data_table.ipynb>data table notebook</a>'\n",
              "            + ' to learn more about interactive tables.';\n",
              "          element.innerHTML = '';\n",
              "          dataTable['output_type'] = 'display_data';\n",
              "          await google.colab.output.renderOutput(dataTable, element);\n",
              "          const docLink = document.createElement('div');\n",
              "          docLink.innerHTML = docLinkHtml;\n",
              "          element.appendChild(docLink);\n",
              "        }\n",
              "      </script>\n",
              "    </div>\n",
              "  </div>\n",
              "  "
            ],
            "text/plain": [
              "         user_id  item_id  rating   timestamp\n",
              "743            0   581059     3.0  1377907200\n",
              "744            0   203627     1.0  1375401600\n",
              "745            0   126476     4.0  1372291200\n",
              "746            0   557823     5.0  1372032000\n",
              "747            0    72579     5.0  1370649600\n",
              "...          ...      ...     ...         ...\n",
              "1047995     1335   431670     4.0  1155427200\n",
              "1047996     1335   383992     4.0  1155168000\n",
              "1047997     1335   261624     4.0  1155081600\n",
              "1047998     1335   391266     5.0  1155081600\n",
              "1047999     1335     9620     5.0  1155081600\n",
              "\n",
              "[743455 rows x 4 columns]"
            ]
          },
          "metadata": {},
          "execution_count": 39
        }
      ]
    },
    {
      "cell_type": "markdown",
      "source": [
        "#Splitting the data"
      ],
      "metadata": {
        "id": "pPcTdwvJRnOy"
      }
    },
    {
      "cell_type": "markdown",
      "source": [
        "##Validation split"
      ],
      "metadata": {
        "id": "tan7PZwMR8nS"
      }
    },
    {
      "cell_type": "code",
      "source": [
        "def electronics_split(\n",
        "    ratings: pd.DataFrame,\n",
        "    train_percentage: float,\n",
        "    warm_users_only: bool = False,\n",
        ") -> Tuple[csr_matrix, pd.DataFrame, Tuple[int, int]]:\n",
        "    \"\"\"\n",
        "    split ``ratings`` dataset to train and test\n",
        "\n",
        "    :param ratings: ratings dataset from electronics\n",
        "    :param train_percentage: percentage of data to put into training dataset\n",
        "    :param warm_users_only: test on only those users, who were in training set\n",
        "    :returns: sparse matrix for training and pandas dataset for testing\n",
        "    \"\"\"\n",
        "    time_split = ratings.timestamp.quantile(train_percentage)  # type: ignore\n",
        "    train = ratings[ratings.timestamp < time_split]\n",
        "    test = ratings[ratings.timestamp >= time_split]\n",
        "    if warm_users_only:\n",
        "        warm_users = list(set(train.user_id).intersection(set(test.user_id)))\n",
        "        final_test = test[test.user_id.isin(warm_users)]\n",
        "    else:\n",
        "        final_test = test\n",
        "    return (\n",
        "        train,\n",
        "        final_test,\n",
        "        (ratings.user_id.max() + 1, ratings.item_id.max() + 1),\n",
        "    )"
      ],
      "metadata": {
        "id": "0UV2DZRGDn2f"
      },
      "execution_count": null,
      "outputs": []
    },
    {
      "cell_type": "markdown",
      "source": [
        "##Sparse matrix"
      ],
      "metadata": {
        "id": "fdC3tS2jR_p2"
      }
    },
    {
      "cell_type": "code",
      "source": [
        "def pandas_to_scipy(\n",
        "    pd_dataframe: pd.DataFrame,\n",
        "    data_name: str,\n",
        "    rows_name: str,\n",
        "    cols_name: str,\n",
        "    shape: Tuple[int, int],\n",
        ") -> csr_matrix:\n",
        "    \"\"\"\n",
        "    transform pandas dataset with three columns to a sparse matrix\n",
        "\n",
        "    :param data_name: column name with values for the matrix cells\n",
        "    :param rows_name: column name with row numbers of the cells\n",
        "    :param cols_name: column name with column numbers of the cells\n",
        "    :param shape: a pair (total number of rows, total number of columns)\n",
        "    :returns: a ``csr_matrix``\n",
        "    \"\"\"\n",
        "    return csr_matrix(\n",
        "        (\n",
        "            pd_dataframe[data_name].astype(float),\n",
        "            (pd_dataframe[rows_name], pd_dataframe[cols_name]),\n",
        "        ),\n",
        "        shape=shape,\n",
        "    )"
      ],
      "metadata": {
        "id": "qbLDGCb0FxHc"
      },
      "execution_count": null,
      "outputs": []
    },
    {
      "cell_type": "markdown",
      "source": [
        "#Models"
      ],
      "metadata": {
        "id": "_uPSdk1BSCeQ"
      }
    },
    {
      "cell_type": "markdown",
      "source": [
        "##First model: SVD"
      ],
      "metadata": {
        "id": "1IuuuiwPSJbm"
      }
    },
    {
      "cell_type": "markdown",
      "source": [
        "The Singular-Value Decomposition, or SVD for short, is a matrix decomposition method for reducing a matrix to its constituent parts in order to make certain subsequent matrix calculations simpler. It provides another way to factorize a matrix, into singular vectors and singular values.\n",
        "\n",
        "$A=U.Sigma.V^T$"
      ],
      "metadata": {
        "id": "_QzYWfxA6NH-"
      }
    },
    {
      "cell_type": "code",
      "source": [
        "def get_svd_recs(\n",
        "    recommender: TruncatedSVD, sparse_train: csr_matrix, test: pd.DataFrame\n",
        ") -> Dict[int, List[int]]:\n",
        "    \"\"\"\n",
        "    get recommendations given a truncated SVD decomposition\n",
        "\n",
        "    :param recommender: a truncated SVD decomposition\n",
        "    :param sparse_train: a ``scr_matrix`` representation of the train data\n",
        "    :param test: test data\n",
        "    :returns: recommendations in ``rs_metrics`` compatible format\n",
        "    \"\"\"\n",
        "    user_embeddings = recommender.transform(sparse_train)\n",
        "    test_users = test.user_id.unique()\n",
        "    test_parts = np.array_split(test_users, 3)\n",
        "    pred = {}\n",
        "    for test_part in tqdm(test_parts):\n",
        "        raw_weights = user_embeddings[test_part].dot(recommender.components_)\n",
        "        no_train_weights = np.where(\n",
        "            (sparse_train[test_part].toarray() > 0),\n",
        "            0.0,\n",
        "            raw_weights,\n",
        "        )\n",
        "        pred.update(\n",
        "            dict(\n",
        "                zip(\n",
        "                    test_part,\n",
        "                    np.argpartition(  # type: ignore\n",
        "                        -no_train_weights, 10, axis=1\n",
        "                    )[:, :10],\n",
        "                )\n",
        "            )\n",
        "        )\n",
        "    return pred"
      ],
      "metadata": {
        "id": "j7MK5S4tisex"
      },
      "execution_count": null,
      "outputs": []
    },
    {
      "cell_type": "code",
      "source": [
        "def SVD():\n",
        "    \"\"\"main function of this module\"\"\"\n",
        "    train, test, shape = electronics_split(electronics, 0.95, True)\n",
        "    sparse_train = pandas_to_scipy(\n",
        "        train, \"rating\", \"user_id\", \"item_id\", shape\n",
        "    )\n",
        "    recommender = TruncatedSVD(n_components=100).fit(sparse_train)\n",
        "    pred = get_svd_recs(recommender, sparse_train, test)\n",
        "    return({\"ndcg\":ndcg(test, pred),\"coverage\":coverage(test, pred)})"
      ],
      "metadata": {
        "id": "HIH-7DSMjcKX"
      },
      "execution_count": null,
      "outputs": []
    },
    {
      "cell_type": "markdown",
      "source": [
        "### First metric: ndcg"
      ],
      "metadata": {
        "id": "xdzNeynOSNEx"
      }
    },
    {
      "cell_type": "code",
      "source": [
        "def main():\n",
        "  ndcg_rate=SVD()\n",
        "  val=ndcg_rate[\"ndcg\"]\n",
        "  print(f\"The rate of SVD by using the ncdg metric is:{val} \")"
      ],
      "metadata": {
        "id": "DHO_gfpwkGGV"
      },
      "execution_count": null,
      "outputs": []
    },
    {
      "cell_type": "code",
      "source": [
        "if __name__ == \"__main__\":\n",
        "    main()"
      ],
      "metadata": {
        "id": "HX4Eu7gikNGb",
        "colab": {
          "base_uri": "https://localhost:8080/"
        },
        "outputId": "8fc31d85-a1e8-43b7-c8f9-82f50971fe6a"
      },
      "execution_count": null,
      "outputs": [
        {
          "output_type": "stream",
          "name": "stderr",
          "text": [
            "100%|██████████| 3/3 [00:16<00:00,  5.64s/it]\n"
          ]
        },
        {
          "output_type": "stream",
          "name": "stdout",
          "text": [
            "The rate of SVD by using the ncdg metric is:0.0004198221579362521 \n"
          ]
        }
      ]
    },
    {
      "cell_type": "markdown",
      "source": [
        "### second metric: coverage"
      ],
      "metadata": {
        "id": "V2CA5jfcSUTQ"
      }
    },
    {
      "cell_type": "code",
      "source": [
        "def main():\n",
        "  coverage_rate=SVD()\n",
        "  val=coverage_rate[\"coverage\"]\n",
        "  print(f\"The rate of SVD by using the coverage metric is:{val} \")"
      ],
      "metadata": {
        "id": "-SFgwbPgkY0R"
      },
      "execution_count": null,
      "outputs": []
    },
    {
      "cell_type": "code",
      "source": [
        "if __name__ == \"__main__\":\n",
        "    main()"
      ],
      "metadata": {
        "id": "9IHZLsHWmpp3",
        "outputId": "306ae0a8-488f-4c07-d9b3-1c6e3dc354ff",
        "colab": {
          "base_uri": "https://localhost:8080/"
        }
      },
      "execution_count": null,
      "outputs": [
        {
          "output_type": "stream",
          "name": "stderr",
          "text": [
            "100%|██████████| 3/3 [00:16<00:00,  5.34s/it]\n"
          ]
        },
        {
          "output_type": "stream",
          "name": "stdout",
          "text": [
            "The rate of SVD by using the coverage metric is:0.0019998929823153277 \n"
          ]
        }
      ]
    },
    {
      "cell_type": "markdown",
      "source": [
        "## Second model: Spotlight"
      ],
      "metadata": {
        "id": "hkEr-SEgSYyP"
      }
    },
    {
      "cell_type": "code",
      "source": [
        "def get_spotlight_predictions(\n",
        "    recommender: Any,\n",
        "    sparse_train: csr_matrix,\n",
        "    test: pd.DataFrame,\n",
        "    top_k: int,\n",
        "    split_test_users_into: int,\n",
        ") -> Dict[int, List[int]]:\n",
        "    \"\"\"\n",
        "    get recommendations given a spotlight recommender\n",
        "\n",
        "    :param recommender: a recommender\n",
        "    :param sparse_train: a ``scr_matrix`` representation of the train data\n",
        "    :param test: test data\n",
        "    :param top_k: how many recommendations to return for each user\n",
        "    :param split_test_users_into: split ``test`` by users into several chunks\n",
        "        to fit into memory\n",
        "    :returns: recommendations in ``rs_metrics`` compatible format\n",
        "    \"\"\"\n",
        "    item_ids = np.arange(sparse_train.shape[1], dtype=np.int32)\n",
        "    test_users_parts = np.array_split(\n",
        "        test.user_id.unique(), split_test_users_into\n",
        "    )\n",
        "    pred = {}\n",
        "    for test_users_part in tqdm(test_users_parts):\n",
        "        if isinstance(recommender, LightFM):\n",
        "            raw_weights_part = recommender.predict(\n",
        "                np.repeat(test_users_part, item_ids.shape[0]),\n",
        "                np.tile(item_ids, test_users_part.shape[0]),\n",
        "                num_threads=os.cpu_count(),\n",
        "            ).reshape(test_users_part.shape[0], item_ids.shape[0])\n",
        "        else:\n",
        "            raw_weights_part = recommender.predict(\n",
        "                np.repeat(test_users_part, item_ids.shape[0]),\n",
        "                np.tile(item_ids, test_users_part.shape[0]),\n",
        "            ).reshape(test_users_part.shape[0], item_ids.shape[0])\n",
        "        no_train_weights = np.where(\n",
        "            (sparse_train[test_users_part].toarray() > 0),\n",
        "            0.0,\n",
        "            raw_weights_part,\n",
        "        )\n",
        "        pred.update(\n",
        "            dict(\n",
        "                zip(\n",
        "                    test_users_part,\n",
        "                    np.argpartition(  # type: ignore\n",
        "                        -no_train_weights, top_k, axis=1\n",
        "                    )[:, :top_k],\n",
        "                )\n",
        "            )\n",
        "        )\n",
        "    return pred"
      ],
      "metadata": {
        "id": "lntzq_gwHYyl"
      },
      "execution_count": null,
      "outputs": []
    },
    {
      "cell_type": "code",
      "source": [
        "def spotlight():\n",
        "    \"\"\"main function for this module\"\"\"\n",
        "    train, test, shape = electronics_split(electronics, 0.95, True)\n",
        "    train_sparse = pandas_to_scipy(\n",
        "        train, \"rating\", \"user_id\", \"item_id\", shape\n",
        "    )\n",
        "    recommender = ImplicitFactorizationModel(\n",
        "        embedding_dim=128,\n",
        "        batch_size=2 ** 18,\n",
        "        use_cuda=True,\n",
        "        loss=\"bpr\",\n",
        "        n_iter=15,\n",
        "        num_negative_samples=1,\n",
        "    )\n",
        "    recommender.fit(\n",
        "        Interactions(\n",
        "            user_ids=train.user_id.values,\n",
        "            item_ids=train.item_id.values,\n",
        "            weights=train.rating.values,\n",
        "            num_users=shape[0],\n",
        "            num_items=shape[1],\n",
        "        ),\n",
        "        verbose=True,\n",
        "    )\n",
        "    pred = get_spotlight_predictions(recommender, train_sparse, test, 10, 100)\n",
        "    return({\"ndcg\":ndcg(test, pred),\"coverage\":coverage(test, pred)})"
      ],
      "metadata": {
        "id": "ndRJTCgII_PD"
      },
      "execution_count": null,
      "outputs": []
    },
    {
      "cell_type": "markdown",
      "source": [
        "### First metric:ndcg"
      ],
      "metadata": {
        "id": "CjYsOKT5SlpK"
      }
    },
    {
      "cell_type": "code",
      "source": [
        "def main():\n",
        "  ndcg_rate=spotlight()\n",
        "  val=ndcg_rate[\"ndcg\"]\n",
        "  print(f\"The rate of Spotlight by using the ncdg metric is:{val} \")"
      ],
      "metadata": {
        "id": "3geDcRLCLWCO"
      },
      "execution_count": null,
      "outputs": []
    },
    {
      "cell_type": "code",
      "source": [
        "if __name__ == \"__main__\":\n",
        "    main()"
      ],
      "metadata": {
        "colab": {
          "base_uri": "https://localhost:8080/"
        },
        "id": "oEGSn1QZNmUL",
        "outputId": "b2fe76c8-5476-4990-db9d-697f29973698"
      },
      "execution_count": null,
      "outputs": [
        {
          "output_type": "stream",
          "name": "stdout",
          "text": [
            "Epoch 0: loss 0.5005761583646139\n",
            "Epoch 1: loss 0.4956909418106079\n",
            "Epoch 2: loss 0.48243166009585065\n",
            "Epoch 3: loss 0.4559430082639058\n",
            "Epoch 4: loss 0.41239867607752484\n",
            "Epoch 5: loss 0.350902001063029\n",
            "Epoch 6: loss 0.2754007975260417\n",
            "Epoch 7: loss 0.19586480657259622\n",
            "Epoch 8: loss 0.12582195550203323\n",
            "Epoch 9: loss 0.0744649904469649\n",
            "Epoch 10: loss 0.042434523502985634\n",
            "Epoch 11: loss 0.02463032677769661\n",
            "Epoch 12: loss 0.015052981053789457\n",
            "Epoch 13: loss 0.009971518069505692\n",
            "Epoch 14: loss 0.007064795897652705\n"
          ]
        },
        {
          "output_type": "stream",
          "name": "stderr",
          "text": [
            "100%|██████████| 100/100 [00:23<00:00,  4.26it/s]\n"
          ]
        },
        {
          "output_type": "stream",
          "name": "stdout",
          "text": [
            "The rate of Spotlight by using the ncdg metric is:0.0003148666184521891 \n"
          ]
        }
      ]
    },
    {
      "cell_type": "markdown",
      "source": [
        "### second metric: coverage"
      ],
      "metadata": {
        "id": "iBEnXtZUS3Or"
      }
    },
    {
      "cell_type": "code",
      "source": [
        "def main():\n",
        "  coverage_rate=spotlight()\n",
        "  val=coverage_rate[\"coverage\"]\n",
        "  print(f\"The rate of Spotlight by using the coverage metric is:{val} \")"
      ],
      "metadata": {
        "id": "BQ-wgsJAhtvy"
      },
      "execution_count": null,
      "outputs": []
    },
    {
      "cell_type": "code",
      "source": [
        "if __name__ == \"__main__\":\n",
        "    main()"
      ],
      "metadata": {
        "id": "kQ-WsGt_hzLN",
        "colab": {
          "base_uri": "https://localhost:8080/"
        },
        "outputId": "e8021566-8947-4676-ed23-9ba370b91cb1"
      },
      "execution_count": null,
      "outputs": [
        {
          "output_type": "stream",
          "name": "stdout",
          "text": [
            "Epoch 0: loss 0.500567783912023\n",
            "Epoch 1: loss 0.4956770141919454\n",
            "Epoch 2: loss 0.4824229876200358\n",
            "Epoch 3: loss 0.4559651017189026\n",
            "Epoch 4: loss 0.4125227133433024\n",
            "Epoch 5: loss 0.3510671655337016\n",
            "Epoch 6: loss 0.27554069956143695\n",
            "Epoch 7: loss 0.19606550534566244\n",
            "Epoch 8: loss 0.1258778547247251\n",
            "Epoch 9: loss 0.074527641137441\n",
            "Epoch 10: loss 0.04250377913316091\n",
            "Epoch 11: loss 0.024527931585907936\n",
            "Epoch 12: loss 0.015052754742403826\n",
            "Epoch 13: loss 0.009918967572351297\n",
            "Epoch 14: loss 0.007038377535839875\n"
          ]
        },
        {
          "output_type": "stream",
          "name": "stderr",
          "text": [
            "100%|██████████| 100/100 [00:23<00:00,  4.24it/s]\n"
          ]
        },
        {
          "output_type": "stream",
          "name": "stdout",
          "text": [
            "The rate of Spotlight by using the coverage metric is:0.005959547315193835 \n"
          ]
        }
      ]
    },
    {
      "cell_type": "markdown",
      "source": [
        "#Conclusion\n",
        "\n",
        "- For the ncdg metric: the spotlight model was better than the SVD.\n",
        "- For the coverage metric: the spotlight  model was better than the SVD.\n",
        "\n",
        "Hence, the use of the Spotlight model was efficient and we can improve their performance by using specific methods."
      ],
      "metadata": {
        "id": "zcmBxe9t6MH3"
      }
    }
  ]
}